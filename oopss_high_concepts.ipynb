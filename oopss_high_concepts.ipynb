{
 "cells": [
  {
   "cell_type": "markdown",
   "metadata": {},
   "source": [
    "### Constructor: "
   ]
  },
  {
   "cell_type": "code",
   "execution_count": 166,
   "metadata": {},
   "outputs": [],
   "source": [
    "#1. What is a constructor in Python? Explain its purpose and usage.\n",
    "#AS:- a constructor is a special method in a class that is automatically called when an object of that class is created. The constructor is used to initialize the attributes of the class.\n",
    "#AS:-The purpose of a constructor is to:\n",
    "#Initialize the attributes of the class with default or user-provided values.\n",
    "#Perform any necessary setup or initialization when an object is created."
   ]
  },
  {
   "cell_type": "code",
   "execution_count": 167,
   "metadata": {},
   "outputs": [],
   "source": [
    "#2. Differentiate between a parameterless constructor and a parameterized constructor in Python\n",
    "#Parameterless Constructor:\n",
    "#A parameterless constructor is a constructor that does not take any parameters. It is used to initialize objects with default values or to perform some setup or initialization tasks.\n",
    "#Parameterized Constructor:\n",
    "#A parameterized constructor is a constructor that takes one or more parameters. It is used to initialize objects with specific values provided by the user."
   ]
  },
  {
   "cell_type": "code",
   "execution_count": 168,
   "metadata": {},
   "outputs": [
    {
     "name": "stdout",
     "output_type": "stream",
     "text": [
      "harry\n",
      "45\n"
     ]
    }
   ],
   "source": [
    "#3. How do you define a constructor in a Python class? Provide an example.\n",
    "#AS:-a constructor is defined using the __init__ method inside a class. The __init__ method is a special method that is automatically called when an object of the class is created.\n",
    "class Person:\n",
    "    def __init__(self,name,age) -> None:\n",
    "        self.name = name\n",
    "        self.age = age\n",
    "persom = Person(\"harry\",45)\n",
    "print(persom.name)\n",
    "print(persom.age)"
   ]
  },
  {
   "cell_type": "code",
   "execution_count": 169,
   "metadata": {},
   "outputs": [],
   "source": [
    "#4. Explain the `__init__` method in Python and its role in constructors.\n",
    "#The __init__ method in Python is a special method that serves as a constructor for objects. It is used to initialize attributes of a class and set the initial state of an object when it is created.\n",
    "#The __init__ method is called automatically when an object of a class is instantiated. It is the first method to be called when an object is created, and it is responsible for setting the initial state of the object.\n",
    "#There are serval roel in init constructer\n",
    "#Initializing Attributes: The __init__ method is used to initialize the attributes of a class. It sets the initial values of the attributes when an object is created.\n",
    "\n",
    "#Setting the Initial State: The __init__ method sets the initial state of an object when it is created. This can include setting default values, initializing variables, and performing other setup tasks.\n",
    "\n",
    "#Automatic Invocation: The __init__ method is automatically called when an object of a class is instantiated. This means that you do not need to explicitly call the __init__ method when creating an object.\n",
    "\n",
    "#Enforcing Consistency: The __init__ method enforces consistency in the creation of objects. By defining a specific set of attributes and initial values, the __init__ method ensures that all objects of a class are created in a consistent manner"
   ]
  },
  {
   "cell_type": "code",
   "execution_count": 170,
   "metadata": {},
   "outputs": [
    {
     "name": "stdout",
     "output_type": "stream",
     "text": [
      "harry\n",
      "45\n"
     ]
    }
   ],
   "source": [
    "#5. In a class named `Person`, create a constructor that initializes the `name` and `age` attributes. Provide an\n",
    "#example of creating an object of this class.\n",
    "class Person:\n",
    "    def __init__(self,name,age) -> None:\n",
    "        self.name = name\n",
    "        self.age = age\n",
    "persom = Person(\"harry\",45)\n",
    "print(persom.name)\n",
    "print(persom.age)"
   ]
  },
  {
   "cell_type": "code",
   "execution_count": 171,
   "metadata": {},
   "outputs": [
    {
     "name": "stdout",
     "output_type": "stream",
     "text": [
      "I am in E class\n",
      "hello  I am in D class\n",
      "hello  I am in C class\n",
      "hello  I am in B class\n",
      "hello  I am in A Class\n",
      "\n",
      "hi I am in C class\n",
      "hi I am in B class\n",
      "hi I am in A Class\n"
     ]
    }
   ],
   "source": [
    "#6. How can you call a constructor explicitly in Python? Give an example.\n",
    "#You can call a constructor explicitly in Python by using the super()\n",
    "class A:\n",
    "    def __init__(self, txt):\n",
    "        print(txt, 'I am in A Class')\n",
    "\n",
    "class B(A):\n",
    "    def __init__(self, txt):\n",
    "        print(txt, 'I am in B class')\n",
    "        super().__init__(txt)\n",
    "\n",
    "class C(B):\n",
    "    def __init__(self, txt):\n",
    "        print(txt, 'I am in C class')\n",
    "        super().__init__(txt)\n",
    "\n",
    "class D(B):\n",
    "    def __init__(self, txt):\n",
    "        print(txt, 'I am in D class')\n",
    "        super().__init__(txt)\n",
    "\n",
    "class E(D, C):\n",
    "    def __init__(self):\n",
    "        print('I am in E class')\n",
    "        super().__init__('hello ')\n",
    "\n",
    "d = E()\n",
    "print('')\n",
    "\n",
    "h = C('hi')"
   ]
  },
  {
   "cell_type": "code",
   "execution_count": 172,
   "metadata": {},
   "outputs": [
    {
     "name": "stdout",
     "output_type": "stream",
     "text": [
      "Area of Rectangle: 1200\n",
      "Cost of rectangular field is : Rs 120000\n"
     ]
    }
   ],
   "source": [
    "#7. What is the significance of the `self` parameter in Python constructors? Explain with an example.\n",
    "#The self parameter in Python constructors is a reference to the instance of the class and is used to access variables and methods that belongs to the class. It is a convention in Python to use self as the first parameter in a constructor, but it can be any valid variable name.\n",
    "class Rectangle:\n",
    "    def __init__(self,lenght,breadth,cost_per_unit=0) -> None:\n",
    "        self.lenght = lenght\n",
    "        self.breadth = breadth\n",
    "        self.coost_per_unit = cost_per_unit\n",
    "    def perimter(self):\n",
    "        return 2*(self.lenght+self.breadth)\n",
    "    def area(self):\n",
    "        return self.lenght * self.breadth\n",
    "    def calcualte_cost(self):\n",
    "        area = self.area()\n",
    "        return area *self.coost_per_unit\n",
    "r = Rectangle(40, 30, 100)\n",
    "\n",
    "print(\"Area of Rectangle:\", r.area())\n",
    "print(\"Cost of rectangular field is : Rs\", r.calcualte_cost())\n",
    "    \n"
   ]
  },
  {
   "cell_type": "code",
   "execution_count": 173,
   "metadata": {},
   "outputs": [
    {
     "name": "stdout",
     "output_type": "stream",
     "text": [
      "101\n"
     ]
    }
   ],
   "source": [
    "#8. Discuss the concept of default constructors in Python. When are they used?\n",
    "#A default constructor in Python is a special method that is automatically called when an object of a class is created. This method is used to initialize the instance variables of the class.\n",
    "class DemoClass:\n",
    "    num = 101\n",
    "\n",
    "    # a method\n",
    "    def read_number(self):\n",
    "        print(self.num)\n",
    "\n",
    "obj = DemoClass()\n",
    "\n",
    "obj.read_number()"
   ]
  },
  {
   "cell_type": "code",
   "execution_count": 174,
   "metadata": {},
   "outputs": [
    {
     "name": "stdout",
     "output_type": "stream",
     "text": [
      "Area of Rectangle: 1200\n"
     ]
    }
   ],
   "source": [
    "#9. Create a Python class called `Rectangle` with a constructor that initializes the `width` and `height`\n",
    "#attributes. Provide a method to calculate the area of the rectangle.\n",
    "class Rectangle:\n",
    "    def __init__(self,lenght,breadth,cost_per_unit=0) -> None:\n",
    "        self.lenght = lenght\n",
    "        self.breadth = breadth\n",
    "        self.coost_per_unit = cost_per_unit\n",
    "    def perimter(self):\n",
    "        return 2*(self.lenght+self.breadth)\n",
    "    def area(self):\n",
    "        return self.lenght * self.breadth\n",
    "r = Rectangle(40, 30, 100)\n",
    "\n",
    "print(\"Area of Rectangle:\", r.area())"
   ]
  },
  {
   "cell_type": "code",
   "execution_count": 175,
   "metadata": {},
   "outputs": [
    {
     "name": "stdout",
     "output_type": "stream",
     "text": [
      "John\n",
      "None\n",
      "None\n",
      "Jane\n",
      "30\n",
      "None\n",
      "Bob\n",
      "40\n",
      "123 Main St\n"
     ]
    }
   ],
   "source": [
    "#10. How can you have multiple constructors in a Python class? Explain with an example.\n",
    "#there is only one method fot consterecter in pythob is __init__\n",
    "\n",
    "#By using default argument values, you can create objects with different sets of arguments, which is similar to having multiple constructors.\n",
    "\n",
    "#Alternatively, you can use the @classmethod decorator to create alternative constructors.\n",
    "class Person:\n",
    "    def __init__(self, name, age=None, address=None):\n",
    "        self.name = name\n",
    "        self.age = age\n",
    "        self.address = address\n",
    "\n",
    "# Create a Person object with only a name\n",
    "person1 = Person(\"John\")\n",
    "print(person1.name)  # John\n",
    "print(person1.age)   # None\n",
    "print(person1.address)  # None\n",
    "\n",
    "# Create a Person object with a name and age\n",
    "person2 = Person(\"Jane\", 30)\n",
    "print(person2.name)  # Jane\n",
    "print(person2.age)   # 30\n",
    "print(person2.address)  # None\n",
    "\n",
    "# Create a Person object with a name, age, and address\n",
    "person3 = Person(\"Bob\", 40, \"123 Main St\")\n",
    "print(person3.name)  # Bob\n",
    "print(person3.age)   # 40\n",
    "print(person3.address)  # 123 Main St"
   ]
  },
  {
   "cell_type": "code",
   "execution_count": 176,
   "metadata": {},
   "outputs": [],
   "source": [
    "#11. What is method overloading, and how is it related to constructors in Python?\n",
    "#Method Overloding means when you  make a class of same name and with diffrent parameter it is related to consteructer when you use consterecter in classes it make code more flexiable\n",
    "\n"
   ]
  },
  {
   "cell_type": "code",
   "execution_count": 177,
   "metadata": {},
   "outputs": [
    {
     "name": "stdout",
     "output_type": "stream",
     "text": [
      "Fido\n",
      "Golden Retriever\n"
     ]
    }
   ],
   "source": [
    "#12. Explain the use of the `super()` function in Python constructors. Provide an example.\n",
    "#The super() function in Python is used to give access to methods and properties of a parent or sibling class. It is often used in constructors to call the constructor of the parent class\n",
    "class Animal:\n",
    "    def __init__(self, name):\n",
    "        self.name = name\n",
    "\n",
    "class Dog(Animal):\n",
    "    def __init__(self, name, breed):\n",
    "        super().__init__(name)  # Calls the constructor of the Animal class\n",
    "        self.breed = breed\n",
    "\n",
    "my_dog = Dog(\"Fido\", \"Golden Retriever\")\n",
    "print(my_dog.name) \n",
    "print(my_dog.breed) "
   ]
  },
  {
   "cell_type": "code",
   "execution_count": 178,
   "metadata": {},
   "outputs": [
    {
     "data": {
      "text/plain": [
       "{'Book_Title ': 'Firdose_iblis',\n",
       " 'Book_Auther_Name': 'altamsash',\n",
       " 'Book_Publish_Year': '2000'}"
      ]
     },
     "execution_count": 178,
     "metadata": {},
     "output_type": "execute_result"
    }
   ],
   "source": [
    "#13. Create a class called `Book` with a constructor that initializes the `title`, `author`, and `published_year`\n",
    "#attributes. Provide a method to display book details.\n",
    "class Book:\n",
    "    def __init__(self,title,auther,publish_year) -> None:\n",
    "        self.title = title\n",
    "        self.auther = auther\n",
    "        self.publish_year = publish_year\n",
    "    def display_book_details(self):\n",
    "        return {\"Book_Title \":self.title,\n",
    "                \"Book_Auther_Name\": self.auther,\n",
    "                \"Book_Publish_Year\": self.publish_year,\n",
    "                }\n",
    "f = Book(\"Firdose_iblis\",\"altamsash\",\"2000\")\n",
    "f.display_book_details()"
   ]
  },
  {
   "cell_type": "code",
   "execution_count": 179,
   "metadata": {},
   "outputs": [],
   "source": [
    "#14. Discuss the differences between constructors and regular methods in Python classes.\n",
    "#Constrocter:-A constructor is a special method in a Python class that is automatically called when an object of that class is created. The constructor is used to initialize the attributes of the class and set the initial state of the object.\n",
    "#the conster crate buy using __init__\n",
    "#Regualr_meathod:-Regular methods are functions that are defined inside a Python class and can be called on an object of that class.\n",
    "#Key differences:\n",
    "\n",
    "#Purpose: Constructors are used for initialization, while regular methods perform specific actions.\n",
    "#Automatic calling: Constructors are called automatically, while regular methods must be called explicitly.\n",
    "#Return value: Constructors do not return values, while regular methods can return values.\n",
    "#Calling frequency: Constructors are called once, while regular methods can be called multiple times."
   ]
  },
  {
   "cell_type": "code",
   "execution_count": 180,
   "metadata": {},
   "outputs": [],
   "source": [
    "#15. Explain the role of the `self` parameter in instance variable initialization within a constructor.\n",
    "#The self parameter in Python is a reference to the current instance of the class and is used to access variables and methods that belongs to the class.\n",
    "#The self parameter is used to bind the instance variables to the object being created. In other words, it allows the constructor to initialize the instance variables with the values passed as arguments.\n"
   ]
  },
  {
   "cell_type": "code",
   "execution_count": 181,
   "metadata": {},
   "outputs": [
    {
     "name": "stdout",
     "output_type": "stream",
     "text": [
      "True\n"
     ]
    }
   ],
   "source": [
    "#16. How do you prevent a class from having multiple instances by using constructors in Python? Provide an example.\n",
    "#To prevent a class from having multiple instances in Python, you can use a design pattern called the Singleton pattern. This pattern ensures that only one instance of a class is created, and provides a global point of access to that instance.\n",
    "class Singleton:\n",
    "    _instance = None  # Private class variable to store the single instance\n",
    "\n",
    "    def __new__(cls, *args, **kwargs):\n",
    "        if not cls._instance:\n",
    "            cls._instance = super(Singleton, cls).__new__(cls, *args, **kwargs)\n",
    "        return cls._instance\n",
    "\n",
    "# Example usage:\n",
    "obj1 = Singleton()\n",
    "obj2 = Singleton()\n",
    "\n",
    "print(obj1 is obj2)\n"
   ]
  },
  {
   "cell_type": "code",
   "execution_count": 182,
   "metadata": {},
   "outputs": [
    {
     "name": "stdout",
     "output_type": "stream",
     "text": [
      "['Math', 'Science', 'English']\n"
     ]
    }
   ],
   "source": [
    "#17. Create a Python class called `Student` with a constructor that takes a list of subjects as a parameter and\n",
    "#initializes the `subjects` attribute.\n",
    "class Student:\n",
    "    def __init__(self,list_of_sub) -> None:\n",
    "        self.list_of_sub = list_of_sub\n",
    "student = Student([\"Math\", \"Science\", \"English\"])\n",
    "print(student.list_of_sub)\n",
    "\n"
   ]
  },
  {
   "cell_type": "code",
   "execution_count": 183,
   "metadata": {},
   "outputs": [
    {
     "name": "stdout",
     "output_type": "stream",
     "text": [
      "Employee created\n",
      "Destructor called, Employee deleted.\n"
     ]
    }
   ],
   "source": [
    "#18. What is the purpose of the `__del__` method in Python classes, and how does it relate to constructors?\n",
    "#The __del__ method in Python classes is a special method that serves as a destructor. It is called when an object is about to be destroyed, which typically happens when the object's reference count reaches zero.\n",
    "#The purpose of the __del__ method is to perform any necessary cleanup or release of resources before the object is destroyed. This can include closing files, releasing memory, or breaking circular references.\n",
    "#it is also called automaticliy by default like init\n",
    "#EX:\n",
    "class Employee:\n",
    "    def __init__(self):\n",
    "        print('Employee created')\n",
    "\n",
    "    def __del__(self):\n",
    "        print('Destructor called, Employee deleted.')\n",
    "\n",
    "obj = Employee()\n",
    "del obj"
   ]
  },
  {
   "cell_type": "code",
   "execution_count": 184,
   "metadata": {},
   "outputs": [
    {
     "name": "stdout",
     "output_type": "stream",
     "text": [
      "Fido\n",
      "3\n",
      "Golden Retriever\n"
     ]
    }
   ],
   "source": [
    "#19. Explain the use of constructor chaining in Python. Provide a practical example.\n",
    "#Constructor chaining in Python is a process where a child class constructor calls its parent class constructor. This is useful when we want to reuse the code from the parent class constructor in the child class constructor.\n",
    "#In Python, we can use the super() function to call the parent class constructor from the child class constructor. This is known as constructor chaining.\n",
    "class Animal:\n",
    "    def __init__(self, name, age):\n",
    "        self.name = name\n",
    "        self.age = age\n",
    "\n",
    "class Dog(Animal):\n",
    "    def __init__(self, name, age, breed):\n",
    "        super().__init__(name, age)  # Calling the Animal class constructor\n",
    "        self.breed = breed\n",
    "\n",
    "my_dog = Dog(\"Fido\", 3, \"Golden Retriever\")\n",
    "print(my_dog.name)  \n",
    "print(my_dog.age)  \n",
    "print(my_dog.breed) \n"
   ]
  },
  {
   "cell_type": "code",
   "execution_count": 185,
   "metadata": {},
   "outputs": [
    {
     "name": "stdout",
     "output_type": "stream",
     "text": [
      "Make: Toyota\n",
      "Model: Supra\n"
     ]
    }
   ],
   "source": [
    "#20. Create a Python class called `Car` with a default constructor that initializes the `make` and `model`\n",
    "#attributes. Provide a method to display car information.\n",
    "class Car:\n",
    "    def __init__(self,make,model) -> None:\n",
    "        self.make = make\n",
    "        self.model = model\n",
    "    def dispaly_car_details(self):\n",
    "          print(f\"Make: {self.make}\")\n",
    "          print(f\"Model: {self.model}\")\n",
    "my_car = Car(\"Toyota\",\"Supra\")\n",
    "my_car.dispaly_car_details()\n",
    "    "
   ]
  },
  {
   "cell_type": "markdown",
   "metadata": {},
   "source": [
    "### Inheritance:"
   ]
  },
  {
   "cell_type": "code",
   "execution_count": 186,
   "metadata": {},
   "outputs": [],
   "source": [
    "#1. What is inheritance in Python? Explain its significance in object-oriented programming.\n",
    "#Inheritance is a fundamental concept in object-oriented programming (OOP) that allows one class to inherit the properties and behavior of another class. In Python, inheritance is implemented using the class keyword and the inheritance\n",
    "#Significance in Object-Oriented Programming\n",
    "\n",
    "#Inheritance is significant in OOP because it enables:\n",
    "\n",
    "#Code Reusability: Inheritance allows you to reuse code from the parent class, reducing duplication and making your code more efficient.\n",
    "#Hierarchical Relationships: Inheritance establishes a hierarchical relationship between classes, where the child class is a specialized version of the parent class.\n",
    "#Modularity: Inheritance promotes modularity by allowing you to break down a large program into smaller, independent modules that can be easily maintained and extended.\n",
    "#Polymorphism: Inheritance enables polymorphism, which is the ability of an object to take on multiple forms. This is achieved through method overriding, where the child class provides a specific implementation of a method inherited from the parent class.\n",
    "#Encapsulation: Inheritance helps to encapsulate data and behavior, making it easier to modify and extend the program without affecting other parts of the codebase.\n",
    "\n"
   ]
  },
  {
   "cell_type": "code",
   "execution_count": 187,
   "metadata": {},
   "outputs": [
    {
     "name": "stdout",
     "output_type": "stream",
     "text": [
      "The dog barks.\n",
      "The dog barks.\n",
      "The mammal feeds its young.\n"
     ]
    }
   ],
   "source": [
    "#2 Differentiate between single inheritance and multiple inheritance in Python. Provide examples for each.\n",
    "#Single inheritance is a type of inheritance where a child class inherits from only one parent class. This is the most common type of inheritance in Python.\n",
    "#ex:\n",
    "class Animal:\n",
    "    def sound(self):\n",
    "        print(\"The Animal Make  A Sound\")\n",
    "\n",
    "class Dog(Animal):\n",
    "    def sound(self):\n",
    "        print(\"The dog barks.\")\n",
    "\n",
    "my_dog = Dog()\n",
    "my_dog.sound()\n",
    "#Multiple inheritance is a type of inheritance where a child class inherits from more than one parent class. This is also supported in Python. and this is call as mutiple inharitance\n",
    "class Animal:\n",
    "    def sound(self):\n",
    "        print(\"The animal makes a sound.\")\n",
    "\n",
    "class Mammal:\n",
    "    def feed(self):\n",
    "        print(\"The mammal feeds its young.\")\n",
    "\n",
    "class Dog(Animal, Mammal):\n",
    "    def sound(self):\n",
    "        print(\"The dog barks.\")\n",
    "\n",
    "my_dog = Dog()\n",
    "my_dog.sound()\n",
    "my_dog.feed() "
   ]
  },
  {
   "cell_type": "code",
   "execution_count": 188,
   "metadata": {},
   "outputs": [
    {
     "name": "stdout",
     "output_type": "stream",
     "text": [
      "Th color of the car is Red\n"
     ]
    },
    {
     "data": {
      "text/plain": [
       "'Toyota'"
      ]
     },
     "execution_count": 188,
     "metadata": {},
     "output_type": "execute_result"
    }
   ],
   "source": [
    "#3. Create a Python class called `Vehicle` with attributes `color` and `speed`. Then, create a child class called\n",
    "#'Car` that inherits from `Vehicle` and adds a `brand` attribute. Provide an example of creating a `Car` object.\n",
    "class Vehical:\n",
    "    def __init__(self,color,speed):\n",
    "        self.color = color\n",
    "        self.speed = speed\n",
    "    def color1(self):\n",
    "        print(f\"Th color of the car is { self.color}\")\n",
    "    def speed1(self):\n",
    "        print(f\"The Speed Of the car is {self.speed}\")\n",
    "class car(Vehical):\n",
    "    def __init__(self,color,speed,brand):\n",
    "        super().__init__(color,speed)\n",
    "        self.brand = brand\n",
    "my_car = car(\"Red\", 120, \"Toyota\")\n",
    "my_car.color1()\n",
    "my_car.brand\n"
   ]
  },
  {
   "cell_type": "code",
   "execution_count": 189,
   "metadata": {},
   "outputs": [
    {
     "name": "stdout",
     "output_type": "stream",
     "text": [
      "Inside Parent\n",
      "Inside Child\n"
     ]
    }
   ],
   "source": [
    "#4. Explain the concept of method overriding in inheritance. Provide a practical example.\n",
    "#Method overriding is an ability of any object-oriented programming language that allows a subclass or child class to provide a specific implementation of a method that is already provided by one of its super-classes or parent classes. When a method in a subclass has the same name, same parameters or signature and same return type (or sub-type) as a method in its super-class, then the method in the subclass is said to override the method in the super-class.\n",
    "class Parent():\n",
    "    def __init__(self):\n",
    "        self.value = \"Inside Parent\"\n",
    "\n",
    "    def show(self):\n",
    "        print(self.value)\n",
    "\n",
    "class Child(Parent):\n",
    "    def __init__(self):\n",
    "        self.value = \"Inside Child\"\n",
    "\n",
    "    def show(self):\n",
    "        print(self.value)\n",
    "\n",
    "obj1 = Parent()\n",
    "obj2 = Child()\n",
    "\n",
    "obj1.show()\n",
    "obj2.show()"
   ]
  },
  {
   "cell_type": "code",
   "execution_count": 190,
   "metadata": {},
   "outputs": [
    {
     "name": "stdout",
     "output_type": "stream",
     "text": [
      "I am From The Parent Class\n"
     ]
    }
   ],
   "source": [
    "#5. How can you access the methods and attributes of a parent class from a child class in Python? Give an\n",
    "#example.\n",
    "class Parent:\n",
    "    parent_atribuates = \"I am From The Parent Class\"\n",
    "    def parent_method(self):\n",
    "        print(\"This is  A Method from The parent Class\")\n",
    "class child(Parent):\n",
    "    child_atrributr = \"I am from child class\"\n",
    "    def child_method(self):\n",
    "        print(\"Thid is Method From child Class\")\n",
    "print(child.parent_atribuates)"
   ]
  },
  {
   "cell_type": "code",
   "execution_count": 191,
   "metadata": {},
   "outputs": [
    {
     "name": "stdout",
     "output_type": "stream",
     "text": [
      "Parent class constructor\n",
      "Child class constructor\n",
      "Parent class method\n",
      "Child class method\n"
     ]
    }
   ],
   "source": [
    "#6. Discuss the use of the `super()` function in Python inheritance. When and why is it used? Provide an\n",
    "#example.\n",
    "#The super() function in Python is used to access the methods and properties of a parent or sibling class. It returns a proxy object that delegates method calls to a parent or sibling class of the current object.\n",
    "\n",
    "#The super() function is used in Python inheritance to:\n",
    "\n",
    "#Access the methods and properties of a parent class.\n",
    "#Avoid using the base class name explicitly.\n",
    "#Allow for more flexibility and intuitive class inheritance.\n",
    "class Parent:\n",
    "    def __init__(self):\n",
    "        print(\"Parent class constructor\")\n",
    "\n",
    "    def method(self):\n",
    "        print(\"Parent class method\")\n",
    "\n",
    "class Child(Parent):\n",
    "    def __init__(self):\n",
    "        super().__init__() \n",
    "        print(\"Child class constructor\")\n",
    "\n",
    "    def method(self):\n",
    "        super().method()  \n",
    "        print(\"Child class method\")\n",
    "\n",
    "child = Child()\n",
    "child.method()\n"
   ]
  },
  {
   "cell_type": "code",
   "execution_count": 192,
   "metadata": {},
   "outputs": [
    {
     "name": "stdout",
     "output_type": "stream",
     "text": [
      "The dog speak in bark voice\n",
      "The Cat speak in meow voice\n"
     ]
    }
   ],
   "source": [
    "#7. Create a Python class called `Animal` with a method `speak()`. Then, create child classes `Dog` and `Cat` that inherit from `Animal` and override the `speak()` method. Provide an example of using these classes.\n",
    "class Animal:\n",
    "    def speak(self):\n",
    "        print(\"The animal speaking in diffrent manner \")\n",
    "class DOG(Animal):\n",
    "    def speak(self):\n",
    "        print(\"The dog speak in bark voice\")\n",
    "class CAT(Animal):\n",
    "    def speak(self):\n",
    "        print(\"The Cat speak in meow voice\")\n",
    "c = CAT()\n",
    "d = DOG()\n",
    "d.speak()\n",
    "c.speak()"
   ]
  },
  {
   "cell_type": "code",
   "execution_count": 193,
   "metadata": {},
   "outputs": [
    {
     "name": "stdout",
     "output_type": "stream",
     "text": [
      "True\n",
      "True\n",
      "False\n",
      "False\n"
     ]
    }
   ],
   "source": [
    "#8. Explain the role of the `isinstance()` function in Python and how it relates to inheritance.\n",
    "class Animal:\n",
    "    pass\n",
    "\n",
    "class Dog(Animal):\n",
    "    pass\n",
    "\n",
    "class Cat(Animal):\n",
    "    pass\n",
    "\n",
    "my_dog = Dog()\n",
    "my_cat = Cat()\n",
    "\n",
    "print(isinstance(my_dog, Animal)) \n",
    "print(isinstance(my_cat, Animal))  \n",
    "print(isinstance(my_dog, Cat))  \n",
    "print(isinstance(my_cat, Dog)) "
   ]
  },
  {
   "cell_type": "code",
   "execution_count": 194,
   "metadata": {},
   "outputs": [
    {
     "name": "stdout",
     "output_type": "stream",
     "text": [
      "Inside Child\n",
      "Inside Parent2\n"
     ]
    }
   ],
   "source": [
    "#4. Explain the concept of method overriding in inheritance. Provide a practical ex\n",
    "#Method overriding is an ability of any object-oriented programming language that allows a subclass or child class to provide a specific implementation of a method that is already provided by one of its super-classes or parent classes. When a method in a subclass has the same name, same parameters or signature and same return type(or sub-type) as a method in its super-class, then the method in the subclass is said to override the method in the super-class.\n",
    "class Parent1:\n",
    "    def show(self):\n",
    "        print(\"Inside Parent1\")\n",
    "\n",
    "class Parent2:\n",
    "    def display(self):\n",
    "        print(\"Inside Parent2\")\n",
    "\n",
    "class Child(Parent1, Parent2):\n",
    "    def show(self):\n",
    "        print(\"Inside Child\")\n",
    "\n",
    "obj = Child()\n",
    "obj.show()\n",
    "obj.display()"
   ]
  },
  {
   "cell_type": "code",
   "execution_count": 195,
   "metadata": {},
   "outputs": [
    {
     "name": "stdout",
     "output_type": "stream",
     "text": [
      "sohrab\n",
      "Name: najish\n"
     ]
    }
   ],
   "source": [
    "#5. Create a Python class called `Person` with a private attribute `__name`. Provide methods to get and set the  name attribute.\n",
    "class Person:\n",
    "    def __init__(self,name) -> None:\n",
    "        self.__name = name\n",
    "    def get_name(self):\n",
    "        return self.__name\n",
    "    def set_name(self,name):\n",
    "        self.__name = name\n",
    "    def display_name(self):\n",
    "        print(f\"Name: {self.__name}\")\n",
    "P = Person(\"sohrab\")\n",
    "print(P.get_name())\n",
    "P.set_name(\"najish\")\n",
    "P.display_name()\n",
    "\n"
   ]
  },
  {
   "cell_type": "code",
   "execution_count": 196,
   "metadata": {},
   "outputs": [],
   "source": [
    "#6. Explain the purpose of getter and setter methods in encapsulation. Provide example\n",
    "#he purpose of getter and setter methods in encapsulation is to control access to an object's attributes, ensuring data integrity and hiding internal implementation details. Getter methods allow you to retrieve the value of an attribute, while setter methods enable you to modify the attribute's value, often with additional logic for validation or transformation\n",
    "class Person:\n",
    "    def __init__(self,name) -> None:\n",
    "        self.__name = name\n",
    "    def get_name(self):\n",
    "        return self.__name\n",
    "    def set_name(self,val):\n",
    "        if not isinstance(self,val):\n",
    "            raise ValueError(\"Name Must Be  A String\")\n",
    "        self.__name = val\n"
   ]
  },
  {
   "cell_type": "code",
   "execution_count": 197,
   "metadata": {},
   "outputs": [
    {
     "name": "stdout",
     "output_type": "stream",
     "text": [
      "Sona\n",
      "'Student' object has no attribute '__name'\n",
      "Sona\n"
     ]
    }
   ],
   "source": [
    "#7. What is name mangling in Python, and how does it affect encapsulation\n",
    "#Name mangling in Python is a process that is used to avoid clashes of names with names defined by subclasses. Any identifier with two leading underscore and one trailing underscore is textually replaced with _classname__identifier where classname is the name of the current class. This means that any identifier of the form __class(at least two leading underscores or at most one trailing underscore) is replaced with _classname__class, where classname is the current class name with leading underscore(s) stripped.\n",
    "class Student:\n",
    "    def __init__(self,name ) -> None:\n",
    "        self.__name = name \n",
    "    def display_name(self):\n",
    "        print(self.__name)\n",
    "s1 = Student(\"Sona\")\n",
    "s1.display_name()\n",
    "try:\n",
    "    s1.__name #Thi will Raise Atriburte errror\n",
    "except Exception as e:\n",
    "    print(e)\n",
    "print(s1._Student__name) #This will "
   ]
  },
  {
   "cell_type": "code",
   "execution_count": 198,
   "metadata": {},
   "outputs": [],
   "source": [
    "#8. Create a Python class called `BankAccount` with private attributes for the account balance (`__balance`) and account number (`__account_number`). Provide methods for depositing and withdrawing money\n",
    "class BankAccount:\n",
    "    def __init__(self, account_number, balance=0):\n",
    "        self.__account_number = account_number\n",
    "        self.__balance = balance\n",
    "\n",
    "    def deposit(self,Ac,amount):\n",
    "        if self.__account_number == Ac:\n",
    "            self.__balance += amount\n",
    "            print(f\"${amount} has been deposited in your account.\")\n",
    "            print(f\"Current balance is ${self.__balance}.\")\n",
    "        else:\n",
    "            print(\"Check Account Number Please\")\n",
    "\n",
    "    def withdraw(self,Ac, amount):\n",
    "        if self.__account_number == Ac:\n",
    "            if amount > self.__balance:\n",
    "                print(\"Insufficient balance.\",f\"ye kya karha h bhai tu {amount}\")\n",
    "            else:\n",
    "                self.__balance -= amount\n",
    "                print(f\"${amount} has been withdrawn from your account.\")\n",
    "                print(f\"Current balance is ${self.__balance}.\")\n",
    "        else:\n",
    "            print(\"Check Account Number Please\")"
   ]
  },
  {
   "cell_type": "code",
   "execution_count": 199,
   "metadata": {},
   "outputs": [],
   "source": [
    "#9. Discuss the advantages of encapsulation in terms of code maintainability and security.\n",
    "#Encapsulation is a fundamental concept in object-oriented programming (OOP) that provides several advantages in terms of code maintainability and security.\n",
    "#Data Hiding,Code Organization,Improved Security,Flexibility,Reusability"
   ]
  },
  {
   "cell_type": "code",
   "execution_count": 200,
   "metadata": {},
   "outputs": [
    {
     "name": "stdout",
     "output_type": "stream",
     "text": [
      "sara\n",
      "12\n"
     ]
    }
   ],
   "source": [
    "#10. How can you access private attributes in Python? Provide an example demonstrating the use of name \n",
    "#mangling.\n",
    "#You can access private attributes in Python using name mangling. In Python, any identifier of the form __spam (at least two leading underscores, at most one trailing underscore) is textually replaced with _classname__spam, where classname is the current class name with leading underscore(s) strippe\n",
    "class Student:\n",
    "    def __init__(self) -> None:\n",
    "        self.public_name = \"sara\"\n",
    "        self.__id = 12\n",
    "o = Student()\n",
    "print(o.public_name)# Accessing a public attribute\n",
    "# print(o.__private_name)  # This will raise an AttributeError\n",
    "#However, you can still access the private attribute using name mangling\n",
    "print(o._Student__id)"
   ]
  },
  {
   "cell_type": "code",
   "execution_count": 201,
   "metadata": {},
   "outputs": [
    {
     "name": "stdout",
     "output_type": "stream",
     "text": [
      "Circle area: 78.53981633974483\n",
      "Rectangle area: 150\n"
     ]
    }
   ],
   "source": [
    "#11. Create a Python class called `Shape` with a method `area()` that calculates the area of a shape. Then, create child classes `Circle` and `Rectangle` that inherit from `Shape` and implement the `area()` method \n",
    "#accordingly. Provide an example\n",
    "import math\n",
    "class Shape:\n",
    "    def area():\n",
    "        pass\n",
    "class Circle(Shape):\n",
    "    def __init__(self,radius) -> None:\n",
    "        self.radius = radius\n",
    "    def area(self):\n",
    "        return math.pi *(self.radius**2)\n",
    "class Rectiangle(Shape):\n",
    "    def __init__(self,lenght,width):\n",
    "        self.lenght = lenght\n",
    "        self.width = width\n",
    "    def area(self):\n",
    "        return self.lenght * self.width\n",
    "circle = Circle(5)\n",
    "print(\"Circle area:\", circle.area())\n",
    "\n",
    "rectangle = Rectangle(10, 15)\n",
    "print(\"Rectangle area:\", rectangle.area())"
   ]
  },
  {
   "cell_type": "code",
   "execution_count": 202,
   "metadata": {},
   "outputs": [
    {
     "name": "stdout",
     "output_type": "stream",
     "text": [
      "Doing something with 42\n"
     ]
    }
   ],
   "source": [
    "#12. Explain the use of abstract base classes (ABCs) in Python and how they relate to inheritance. Provide an \n",
    "#example using the `abc` module.\n",
    "#AS:-ABCs are useful when you want to define an interface or a blueprint for other classes to follow. They provide a way to define a set of methods that must be implemented by any subclass, without providing a default implementation\n",
    "from abc import ABC, abstractmethod\n",
    "\n",
    "class AbstractClassExample(ABC):\n",
    "    def __init__(self, value):\n",
    "        self.value = value\n",
    "        super().__init__()\n",
    "\n",
    "    @abstractmethod\n",
    "    def do_something(self):\n",
    "        pass\n",
    "\n",
    "class ConcreteClass(AbstractClassExample):\n",
    "    def do_something(self):\n",
    "        print(\"Doing something with\", self.value)\n",
    "\n",
    "obj = ConcreteClass(42)\n",
    "obj.do_something()  "
   ]
  },
  {
   "cell_type": "code",
   "execution_count": 203,
   "metadata": {},
   "outputs": [
    {
     "name": "stdout",
     "output_type": "stream",
     "text": [
      "Public Attribute\n",
      "Public Method\n",
      "You are Trying To access priveate atttribue and it is not posseble in this manner\n",
      "Error: Private method is not accessible\n",
      "Private Atrribute\n",
      "Private Method\n"
     ]
    }
   ],
   "source": [
    "#13. How can you prevent a child class from modifying certain attributes or methods inherited from a parent \n",
    "#class in Python?\n",
    "#to prevent a child class from modifying certain atrributed or method we inheriated from  Parent prevent mehod or varriable denoted by a double underscore before the varr. or method name\n",
    "class Parent:\n",
    "    def __init__(self) -> None:\n",
    "        self.__private_atrribute = \"Private Atrribute\"\n",
    "        self.public_att = \"Public Attribute\"\n",
    "    def __private_method(self):\n",
    "        print(\"Private Method\")\n",
    "    def public_mehod(self):\n",
    "        print(\"Public Method\")\n",
    "class Child(Parent):\n",
    "    pass\n",
    "child = Child()\n",
    "print(child.public_att)\n",
    "child.public_mehod()\n",
    "\n",
    "#Trying private this will threw error\n",
    "try:\n",
    "    print(child.__private_atrribute)\n",
    "except AttributeError as e:\n",
    "    print(\"You are Trying To access priveate atttribue and it is not posseble in this manner\")\n",
    "try:\n",
    "    child.__private_method()\n",
    "except AttributeError:\n",
    "    print(\"Error: Private method is not accessible\")\n",
    "#WAY:-\n",
    "#To access private attribute or method we need to use name mangling\n",
    "print(child._Parent__private_atrribute)\n",
    "child._Parent__private_method()"
   ]
  },
  {
   "cell_type": "code",
   "execution_count": 204,
   "metadata": {},
   "outputs": [],
   "source": [
    "#14. Create a Python class called `Employee` with attributes `name` and `salary`. Then, create a child class \n",
    "#`Manager` that inherits from `Employee` and adds an attribute `department`. Provide an example.\n",
    "class Employe:\n",
    "    def __init__(rl, name, salary):\n",
    "        rl.name = name\n",
    "        rl.salary = salary\n",
    "    def details(rl):\n",
    "        return f\"Name: {rl.name}, Salary: {rl.salary}\" \n",
    "\n",
    "class Manager(Employe):\n",
    "    def __init__(rl, name, salary,deparment):\n",
    "        super().__init__(name, salary)\n",
    "        rl.departmet = deparment\n",
    "    def details(rl):\n",
    "        print(f\"Department {rl.departmet}\")\n",
    "        return super().details()"
   ]
  },
  {
   "cell_type": "code",
   "execution_count": 205,
   "metadata": {},
   "outputs": [
    {
     "name": "stdout",
     "output_type": "stream",
     "text": [
      "Cal.add() missing 1 required positional argument: 'c'\n",
      "69\n",
      "The dog barks.\n"
     ]
    }
   ],
   "source": [
    "#15. Discuss the concept of method overloading in Python inheritance. How does it differ from method \n",
    "#overriding\n",
    "#Method Overloading\n",
    "#Method overloading is a feature that allows multiple methods with the same name to be defined, as long as they have different parameter lists. This means that a class can have multiple methods with the same name, but with different numbers or types of parameters. The method that gets called is determined by the number and types of arguments passed to it.\n",
    "#ex:-\n",
    "class Cal:\n",
    "    def add(self,a,b):\n",
    "        return a+b\n",
    "    def add(self,a,b,c):\n",
    "        return a+b+c\n",
    "cal = Cal()\n",
    "try:\n",
    "    print(cal.add(10,20)) #this will throw an error because python does not support method\n",
    "except Exception as e:\n",
    "    print(e)\n",
    "print(cal.add(10,20,39))\n",
    "#overloading like other languages\n",
    "#In Python, you can't define multiple methods with the same name but with different parameters. Python\n",
    "#will only recognize the last method definition and ignore the previous ones.\n",
    "#Method Overriding\n",
    "#Method overriding is a feature that allows a subclass to provide a specific implementation for a method that is\n",
    "#already defined in its superclass. The subclass method has the same name, return type, and parameter\n",
    "#list as the superclass method, but it can have a different implementation.\n",
    "class Animal:\n",
    "    def sound(self):\n",
    "        print(\"The animal makes a sound.\")\n",
    "\n",
    "class Dog(Animal):\n",
    "    def sound(self):\n",
    "        print(\"The dog barks.\")\n",
    "\n",
    "my_dog = Dog()\n",
    "my_dog.sound() "
   ]
  },
  {
   "cell_type": "code",
   "execution_count": 206,
   "metadata": {},
   "outputs": [],
   "source": [
    "#16. Explain the purpose of the `__init__()` method in Python inheritance and how it is utilized in child classe\n",
    "#s.The purpose of the __init__() method is to set the initial state of an object by assigning values to its attributes.\n",
    "# the child class also inharite the proprty of parent class init also the child aslo use ther own init \n",
    "class Parent:\n",
    "    def __init__(self, name, age):\n",
    "        self.name = name\n",
    "        self.age = age\n",
    "    def detils(self):\n",
    "        print({\n",
    "            \"name\":self.name,\n",
    "            \"age\":self.age\n",
    "            })\n",
    "class Child(Parent):\n",
    "    def __init__(self,name,age, grade):\n",
    "        super().__init__(name,age)\n",
    "        self.grade = grade\n",
    "    def detils(self):\n",
    "        print(\"Grade:-\",self.grade)\n",
    "        super().detils()"
   ]
  },
  {
   "cell_type": "code",
   "execution_count": 207,
   "metadata": {},
   "outputs": [
    {
     "name": "stdout",
     "output_type": "stream",
     "text": [
      "Eagles can fly very high\n",
      "Sparrow can fly very low\n",
      "birds can fly\n"
     ]
    }
   ],
   "source": [
    "#17. Create a Python class called `Bird` with a method `fly()`. Then, create child classes `Eagle` and `Sparrow` that inherit from `Bird` and implement the `fly()` method differently. Provide an example of using these \n",
    "#classes\n",
    "class Bird:\n",
    "    def fly(self):\n",
    "        return \"birds can fly\"\n",
    "class Eagle(Bird):\n",
    "    def fly(self):\n",
    "        return \"Eagles can fly very high\"\n",
    "class Sparrow(Bird):\n",
    "    def fly(self):\n",
    "        return \"Sparrow can fly very low\"\n",
    "eagle = Eagle()\n",
    "sparrow = Sparrow()\n",
    "b1 = Bird()\n",
    "\n",
    "# Use the fly() method on each instance\n",
    "print(eagle.fly())  \n",
    "print(sparrow.fly()) \n",
    "print(b1.fly())\n"
   ]
  },
  {
   "cell_type": "code",
   "execution_count": 208,
   "metadata": {},
   "outputs": [],
   "source": [
    "#18. What is the \"diamond problem\" in multiple inheritance, and how does Python address it\n",
    "#The \"diamond problem\" is a classic issue that arises in multiple inheritance, a feature of some object-oriented programming languages that allows a class to inherit behavior from more than one parent class. The problem occurs when a class inherits conflicting methods from its parent classes, creating an ambiguity in the method resolution order.\n",
    "class A:\n",
    "    def method(self):\n",
    "        print(\"A's method\")\n",
    "\n",
    "class B(A):\n",
    "    pass\n",
    "\n",
    "class C(A):\n",
    "    def method(self):\n",
    "        print(\"C's method\")\n",
    "\n",
    "class D(B, C):\n",
    "    pass\n",
    "#Python addresses the diamond problem using a method resolution order (MRO) algorithm, which is based on the C3 linearization algorithm. The MRO algorithm ensures that the order in which methods are searched is consistent and predictable, even in the presence of multiple inheritance.\n",
    "#In Python, when a class inherits from multiple parents, the MRO is constructed by concatenating the MROs of the parent classes. The MRO is used to resolve method calls, and it ensures that the most specific implementation of a method is called.\n",
    "#In the example above, the MRO for class D would be: D, B, C, A, object. This means that when we call the method() method on an instance of D, Python will search for the implementation in the following order:\n"
   ]
  },
  {
   "cell_type": "code",
   "execution_count": 209,
   "metadata": {},
   "outputs": [],
   "source": [
    "#19. Discuss the concept of \"is-a\" and \"has-a\" relationships in inheritance, and provide examples of each\n",
    "#There are two types of relationships in inheritance: \"is-a\" and \"has-a\" relationships.\n",
    "#\"Is-a\" Relationship\n",
    "#An \"is-a\" relationship, also known as inheritance, is a relationship between two classes where one class is a specialized version of the other. The child class inherits all the properties and behavior of the parent class and can also add new properties or override the ones inherited from the parent class.\n",
    "class Animal:\n",
    "    def sound(self):\n",
    "        print(\"The animal makes a sound\")\n",
    "\n",
    "class Dog(Animal):\n",
    "    def sound(self):\n",
    "        print(\"The dog barks\")\n",
    "#\"Has-a\" Relationship\n",
    "#A \"has-a\" relationship, also known as composition, is a relationship between two classes where one class contains an instance of another class. The containing class is responsible for the lifetime of the contained class.\n",
    "class Engine:\n",
    "    def start(self):\n",
    "        print(\"The engine starts\")\n",
    "\n",
    "class Car:\n",
    "    def __init__(self):\n",
    "        self.engine = Engine()\n",
    "\n",
    "    def start_car(self):\n",
    "        self.engine.start()\n"
   ]
  },
  {
   "cell_type": "code",
   "execution_count": 210,
   "metadata": {},
   "outputs": [
    {
     "name": "stdout",
     "output_type": "stream",
     "text": [
      "Name:John Doe, ID:12345\n",
      "Major:Computer Science, GPA:3.5\n",
      "\n",
      "\n",
      "Name:Jane Smith, ID:67890\n",
      "Department:Mathematics, Salary:100000\n"
     ]
    }
   ],
   "source": [
    "#20. Create a Python class hierarchy for a university system. Start with a base class `Person` and create child \n",
    "#classes `Student` and `Professor`, each with their own attributes and methods. Provide an example of using \n",
    "#these classes in a university context.\n",
    "class Person:\n",
    "    def __init__(self,name,id) -> None:\n",
    "        self.name = name\n",
    "        self.id = id\n",
    "    def dispaly(self):\n",
    "        print(f\"Name:{self.name}, ID:{self.id}\")\n",
    "    \n",
    "class  Student(Person):\n",
    "    def __init__(self, name, id, major, gpa) -> None:\n",
    "        super().__init__(name, id)\n",
    "        self.major = major\n",
    "        self.gpa = gpa\n",
    "    def display(self):\n",
    "        super().dispaly()\n",
    "        print(f\"Major:{self.major}, GPA:{self.gpa}\")\n",
    "class Professor(Person):\n",
    "    def __init__(self, name, id, department, salary) -> None:\n",
    "        super().__init__(name,id)\n",
    "        self.department = department\n",
    "        self.salary = salary\n",
    "    def display(self):\n",
    "        super().dispaly()\n",
    "        print(f\"Department:{self.department}, Salary:{self.salary}\")\n",
    "student = Student(\"John Doe\", \"12345\", \"Computer Science\", 3.5)\n",
    "student.display()\n",
    "\n",
    "print(\"\\n\")\n",
    "\n",
    "professor = Professor(\"Jane Smith\", \"67890\", \"Mathematics\", 100000)\n",
    "professor.display()"
   ]
  },
  {
   "cell_type": "markdown",
   "metadata": {},
   "source": [
    "### Encapsulation:-"
   ]
  },
  {
   "cell_type": "code",
   "execution_count": 211,
   "metadata": {},
   "outputs": [],
   "source": [
    "#1. Explain the concept of encapsulation in Python. What is its role in object-oriented programming\n",
    "#Encapsulation is the idea of bundling data and methods that operate on that data within a single unit, called a class or object. This unit acts as a container, hiding the internal implementation details from the outside world and exposing only the necessary information through a controlled interface\n",
    "#Role of encapsulation in oops\n",
    "#1. Data Hiding: Encapsulation helps to hide the internal implementation details of an object from\n",
    "#the outside world, making it harder for other objects to access or modify them directly.\n",
    "#2. Code Organization: Encapsulation helps to organize code in a logical and structured way, making\n",
    "#it easier to understand and maintain.\n",
    "#3. Code Reusability: Encapsulation enables code reusability by allowing objects to be\n",
    "#instantiated multiple times with different data, without having to rewrite the code.\n",
    "#4. Improved Security: By hiding internal implementation details, encapsulation improves security\n",
    "#by reducing the risk of data corruption or unauthorized access.\n",
    "#5. Better Abstraction: Encapsulation helps to abstract the internal implementation details of an\n",
    "#object, making it easier to focus on the object's behavior and interactions rather than its internal workings\n",
    "\n"
   ]
  },
  {
   "cell_type": "code",
   "execution_count": 212,
   "metadata": {},
   "outputs": [],
   "source": [
    "#2. Describe the key principles of encapsulation, including access control and data hiding.\n",
    "#Encapsulation is a fundamental concept in OOPS that binds together the data and the methods that manpulate the data and the keeps both safe from outside interface and misue. The key preinciple of encapculation are:-\n",
    "# 1.Accesss control:- it controls who can access, modify, or use the object's data and methods. Access control is achieved through:\n",
    "#Public: Members (methods or variables) that are accessible from anywhere in the program.\n",
    "#Private: Members that are accessible only within the same class.\n",
    "#Protected: Members that are accessible within the same class, its subclasses, and friend classes.\n",
    "#2. Data Hiding-Data hiding, also known as information hiding, is the concept of hiding an object's internal implementation details from the outside world. This means that the object's internal state and behavior are not directly accessible, and can only be manipulated through a controlled interface.\n",
    "#Benifites:-\n",
    "#Improved Code Organization: Encapsulation helps to organize code in a logical and structured way, making it easier to understand and maintain.\n",
    "#Data Protection: By controlling access to an object's internal state, encapsulation protects the data from external interference and misuse.\n",
    "#Code Reusability: Encapsulated objects can be reused in other parts of the program without worrying about the internal implementation details\n"
   ]
  },
  {
   "cell_type": "code",
   "execution_count": 213,
   "metadata": {},
   "outputs": [],
   "source": [
    "#3. How can you achieve encapsulation in Python classes? Provide an example\n",
    "#we can achive it threw (__)double underscore\n",
    "class Employ:\n",
    "    def __init__(self,name,salary) -> None:\n",
    "        self.__name = name\n",
    "        self.__salary = salary\n",
    "    @property\n",
    "    def name(self):\n",
    "        return self.__name\n",
    "    @property\n",
    "    def salary(self):\n",
    "        return self.__salary\n",
    "    @name.setter\n",
    "    def name(self,value):\n",
    "        if not isinstance(value,str):\n",
    "            raise TypeError(\"Name must be a string\")\n",
    "        self.__name = value\n",
    "    @salary.setter\n",
    "    def salary(self,value):\n",
    "        if not isinstance(value,(int,float)):\n",
    "            raise TypeError(\"Salary must be a number\")\n",
    "        elif value<0:\n",
    "            raise ValueError(\"Salary cannot be negative\")\n",
    "        else:\n",
    "            self.__salary = value\n",
    "    def display_details(self):\n",
    "        print(f\"Name:- {self.__name}\")\n",
    "        print(f\"Salary:- {self.__salary}\")"
   ]
  },
  {
   "cell_type": "code",
   "execution_count": 214,
   "metadata": {},
   "outputs": [],
   "source": [
    "#4. Discuss the difference between public, private, and protected access modifiers in Python.\n",
    "#public:- No prefix: Public attributes and methods have no prefix\n",
    "#Accessible from anywhere: Public attributes and methods can be accessed from anywhere in the code, both within and outside the class.\n",
    "#Intended use: Public attributes and methods are intended to be used by other parts of the code and are part of the class's public interface.\n",
    "\n",
    "#private:- Single underscore prefix: Private attributes and methods have a single underscore prefix\n",
    "#Python performs name mangling on private attributes and methods, making them harder to access from outside the class. The actual name is mangled by prefixing it with the class name\n",
    "#Intended use: Private attributes and methods are intended to be used internally within the class and are\n",
    "#not part of the class's public interface.\n",
    "#Protected Access Modifier:-\n",
    "#Single underscore prefix (_): Protected attributes and methods have a single underscore prefix \n",
    "#Python does not perform name mangling on protected attributes and methods\n",
    "#Accessible within the class and its subclasses: Protected attributes and methods can be accessed within the class and its subclasses, but not from outside the class hierarchy.\n",
    "#Key Diffrence:\n",
    "#Accessibility: Public attributes and methods are accessible from anywhere, while private attributes and methods are accessible only within the class, and protected attributes and methods are accessible within the class and its subclasses\n",
    "#Name mangling: Only private attributes and methods undergo name mangling, making them harder to access from outside the class.\n"
   ]
  },
  {
   "cell_type": "code",
   "execution_count": 215,
   "metadata": {},
   "outputs": [],
   "source": [
    "#5. Create a Python class called `Person` with a private attribute `__name`. Provide methods to get and set the \n",
    "#name attribute.\n",
    "class Person:\n",
    "    def __init__(self,name) -> None:\n",
    "        self.__name = name\n",
    "    def get_name(self):\n",
    "        return self.__name\n",
    "    def set_name(self,name):\n",
    "        if not isinstance(name,str):\n",
    "            raise TypeError(\"Name must be a string\")\n",
    "        self.__name = name"
   ]
  },
  {
   "cell_type": "code",
   "execution_count": 216,
   "metadata": {},
   "outputs": [
    {
     "name": "stdout",
     "output_type": "stream",
     "text": [
      "John Doe\n"
     ]
    },
    {
     "data": {
      "text/plain": [
       "'chor'"
      ]
     },
     "execution_count": 216,
     "metadata": {},
     "output_type": "execute_result"
    }
   ],
   "source": [
    "#6. Explain the purpose of getter and setter methods in encapsulation. Provide examples.\n",
    "#Solution:In object-oriented programming, encapsulation is the concept of bundling data and methods that operate\n",
    "#on that data within a single unit, called a class. Getter and setter methods are an essential part\n",
    "#of encapsulation, as they allow controlled access to an object's internal state.\n",
    "#Getter Methods (Accessors):\n",
    "#Getter methods, also known as accessors, are used to retrieve the value of a private variable\n",
    "#from a class. They provide a way to access the internal state of an object without exposing\n",
    "#the internal implementation details.\n",
    "#by using getter method you can change the internal implemention of the atrribute without affacing the external infrace\n",
    "#validate data :- getter method can perfrom vaditaion or formating on the data returnig ot to the caller\n",
    "class Person:\n",
    "    def __init__(self, name):\n",
    "        self.__name = name  \n",
    "\n",
    "    def get_name(self):\n",
    "        return self.__name  #\n",
    "    def set_name(self,val):\n",
    "        if  not isinstance(val,str):\n",
    "            raise ValueError(\"Name Must Be String\")\n",
    "        self.__name = val\n",
    "\n",
    "p = Person(\"John Doe\")\n",
    "print(p.get_name())\n",
    "\n",
    "p.set_name(\"chor\")\n",
    "p.get_name()"
   ]
  },
  {
   "cell_type": "code",
   "execution_count": 217,
   "metadata": {},
   "outputs": [],
   "source": [
    "#7. What is name mangling in Python, and how does it affect encapsulation?\n",
    "#Name mangling is a mechanism that allows class attributes to be \"hidden\" from the outside world, making them harder to access directly. This is done to support encapsulation, which is a fundamental concept in object-oriented programming \n",
    "#work:-\n",
    "#When you define a class attribute with a name that starts with double underscore\n",
    "#Python performs name mangling on that attribute. The attribute's name is internally changed to include the class name, making it more difficult to access from outside the class.\n",
    "#NOTE:-While name mangling provides some level of protection, it is not a security mechanism. It is still possible for determined users to access the mangled attributes using the internal name. Name mangling is primarily a convention to indicate that an attribute is intended to be private and should not be accessed directly\n"
   ]
  },
  {
   "cell_type": "code",
   "execution_count": 218,
   "metadata": {},
   "outputs": [],
   "source": [
    "#8. Create a Python class called `BankAccount` with private attributes for the account balance (`__balance`) and account number (`__account_number`). Provide methods for depositing and withdrawing money.\n",
    "class BankAccount:\n",
    "    def __init__(self, account_number, initial_balance=0):\n",
    "        self.__account_number = account_number\n",
    "        self.__balance = initial_balance\n",
    "    def Withdraw(self,account_number):\n",
    "        if self.__account_number == account_number:\n",
    "            amount = float(input(\"Enter The Amount\"))\n",
    "            if amount > self.__balance:\n",
    "                print(\"Insufficient Balance\")\n",
    "            else:\n",
    "                self.__balance -= amount\n",
    "                print(\"Withdrawal Successful\")\n",
    "        else:\n",
    "            print(\"Invalid Account Number\")\n",
    "    def Deposite(self,account_number):\n",
    "        if self.__account_number == account_number:\n",
    "            amount = float(input(\"Enter The Amount\"))\n",
    "            if amount>self.__balance:\n",
    "                print(\"Invalid Amount\")\n",
    "            else:\n",
    "                self.__balance += amount\n",
    "                print(\"Deposit Successful\")\n",
    "        else:\n",
    "            print(\"Invalid Account Number\")\n",
    "    def CheckBalance(self,account_number):\n",
    "        if self.__account_number == account_number:\n",
    "            return self.__balance\n",
    "        else:\n",
    "            return \"Invalid Account Number\""
   ]
  },
  {
   "cell_type": "code",
   "execution_count": 219,
   "metadata": {},
   "outputs": [],
   "source": [
    "#9. Discuss the advantages of encapsulation in terms of code maintainability and security\n",
    "#Encapsulation is a fundamental concept in object-oriented programming (OOP) that plays a vital role in ensuring code maintainability and security. By hiding internal implementation details and exposing only necessary information to the outside world, encapsulation provides numerous benefits that make it an essential aspect of software development.\n",
    "#1. Modularity\n",
    "#Encapsulation promotes modularity by allowing developers to break down complex systems into smaller, independent modules. Each module can be modified, updated, or replaced without affecting other parts of the system, making it easier to maintain and evolve the codebase.\n",
    "#Code Reusability:-\n",
    "#Encapsulated code is more reusable, as it can be easily integrated into other projects or modules without worrying about the internal implementation details. This reduces code duplication and saves development tim\n",
    "#3. Easier Debugging\n",
    "#With encapsulation, debugging becomes more efficient, as the internal implementation details are hidden, and only the exposed interfaces are visible. This makes it easier to identify and fix issues without affecting other parts of the system.\n",
    "#4. Improved Code Organization\n",
    "#Encapsulation helps organize code in a more structured and logical manner, making it easier to understand and navigate. This leads to better code readability and maintainability.\n",
    "## Advantages of Encapsulation in Code Security:\n",
    "# 1. Data Hiding\n",
    "#Encapsulation ensures that sensitive data is hidden from external access, reducing the risk of data breaches and unauthorized modifications\n",
    "#2. Access Control\n",
    "#By controlling access to internal implementation details, encapsulation provides an additional layer of security, preventing malicious actors from exploiting vulnerabilities.\n",
    "#3. Reduced Attack Surface\n",
    "#Encapsulation reduces the attack surface by minimizing the exposure of internal implementation details, making it more difficult for attackers to identify vulnerabilities."
   ]
  },
  {
   "cell_type": "code",
   "execution_count": 220,
   "metadata": {},
   "outputs": [
    {
     "name": "stdout",
     "output_type": "stream",
     "text": [
      "'MyClass' object has no attribute '__private_attribute'\n",
      "This is a private attribute\n"
     ]
    },
    {
     "data": {
      "text/plain": [
       "'This is a private attribute'"
      ]
     },
     "execution_count": 220,
     "metadata": {},
     "output_type": "execute_result"
    }
   ],
   "source": [
    "#10. How can you access private attributes in Python? Provide an example demonstrating the use of name \n",
    "#mangling.\n",
    "#In Python, private attributes are not truly private, but rather, they are mangled to avoid accidental access from outside the class. Python's name mangling mechanism renames private attributes by prepending the class name to the attribute name.\n",
    "class MyClass:\n",
    "    def __init__(self):\n",
    "        self.__private_attribute = \"This is a private attribute\"\n",
    "    def acces_private(self):\n",
    "        return self.__private_attribute\n",
    "\n",
    "obj = MyClass()\n",
    "\n",
    "\n",
    "try:\n",
    "    print(obj.__private_attribute)\n",
    "except AttributeError as e:\n",
    "    print(e)\n",
    "#Another way also to accces threw make another func for this private atrribute\n",
    "print(obj._MyClass__private_attribute) \n",
    "obj.acces_private()"
   ]
  },
  {
   "cell_type": "code",
   "execution_count": 221,
   "metadata": {},
   "outputs": [],
   "source": [
    "#11. Create a Python class hierarchy for a school system, including classes for students, teachers, and courses, \n",
    "#and implement encapsulation principles to protect sensitive information.\n",
    "class Person:\n",
    "    def __init__(self,name,email) -> None:\n",
    "        self.__name = name\n",
    "        self.__email = email\n",
    "    def get_name(self):\n",
    "        return self.__name\n",
    "    def get_email(self):\n",
    "        return self.__email\n",
    "    def set_mail(self,email):\n",
    "        self.__email = email\n",
    "    def set_name(self,name):\n",
    "        self.__name = name\n",
    "\n",
    "class Student(Person):\n",
    "    def __init__(self, name, email,student_id,cgpa) -> None:\n",
    "        super().__init__(name, email)\n",
    "        self.__student_id = student_id\n",
    "        self.__cgpa = cgpa\n",
    "    def get_student_id(self):\n",
    "        return self.__student_id\n",
    "    def get_gpa(self):\n",
    "        return self.__cgpa\n",
    "    def get_details(self):\n",
    "        return {\n",
    "            \"name\":self.get_name(),\n",
    "            \"email\":self.get_email(),\n",
    "            \"student_id\":self.get_student_id(),\n",
    "            \"cgpa\":self.get_gpa()\n",
    "            }\n",
    "class Teacher(Person):\n",
    "    def __init__(self, name, email, salary,id,department) -> None:\n",
    "        super().__init__(name, email)\n",
    "        self.__salary = salary\n",
    "        self.__id = id\n",
    "        self.__department = department\n",
    "    def get_salary(self):\n",
    "        return self.__salary\n",
    "    def get_teacher_id(self):\n",
    "        return self.__id\n",
    "    def get_depatment_name(self):\n",
    "        return self.__department\n",
    "    def get_details(self):\n",
    "        return {\n",
    "            \"name\":self.get_name(),\n",
    "            \"email\":self.get_email(),\n",
    "            \"salary\":self.get_salary(),\n",
    "            \"id\":self.get_teacher_id()\n",
    "        }\n",
    "class Courses(Student):\n",
    "    def __init__(self,course_name,course_code) -> None:\n",
    "        self.__course_name = course_name\n",
    "        self.__course_code = course_code\n",
    "        self.__students = []\n",
    "        self.__teachers = []\n",
    "    def get_course_name(self):\n",
    "        return self.__course_name\n",
    "    def get_course_code(self):\n",
    "        return self.__course_code\n",
    "    def add_students(self,student):\n",
    "        self.__students.append(student)\n",
    "    def remove_student(self,student):\n",
    "        self.__students.remove(student)\n",
    "    def add_teacher(self,teacher):\n",
    "        self.__teachers.append(teacher)\n",
    "    def get_stuents(self):\n",
    "        return self.__students"
   ]
  },
  {
   "cell_type": "code",
   "execution_count": 222,
   "metadata": {},
   "outputs": [],
   "source": [
    "#12. Explain the concept of property decorators in Python and how they relate to encapsulation\n",
    "#Encapsulation is the idea of bundling data and methods that operate on that data within a single unit, called a class or object. The goal of encapsulation is to hide the internal implementation details of an object from the outside world and only expose a public interface through which other objects can interact with it\n",
    "#In Python, encapsulation is achieved using classes and objects. A class defines a blueprint for creating objects, and an object is an instance of a class. Objects have attributes (data) and methods (functions that operate on that data).\n",
    "#Property decorators are a way to customize access to an object's attributes. They allow you to define getter, setter, and deleter functions for an attribute, which are called when the attribute is accessed, modified, or deleted, respectivel\n",
    "#A  property decorator is a special type of decorator that takes a function as an argument and returns a property object. The property object is then assigned to a class attribute\n",
    "#EX:-\n",
    "class Person:\n",
    "    def __init__(self, name):\n",
    "        self._name = name\n",
    "\n",
    "    @property\n",
    "    def name(self):\n",
    "        return self._name\n",
    "\n",
    "    @name.setter\n",
    "    def name(self, value):\n",
    "        if not isinstance(value, str):\n",
    "            raise ValueError(\"Name must be a string\")\n",
    "        self._name = value\n",
    "\n",
    "    @name.deleter\n",
    "    def name(self):\n",
    "        del self._name\n",
    "#Property decorators help achieve encapsulation in several ways:\n",
    "\n",
    "#Data Hiding: By using a private attribute (e.g., _name) and a public property (e.g., name), you can hide the internal implementation details of the object from the outside world.\n",
    "#Controlled Access: The getter, setter, and deleter functions allow you to control how the attribute is accessed, modified, or deleted. This ensures that the object's internal state is consistent and valid.\n",
    "#Validation: You can add validation logic in the setter function to ensure that the attribute is set to a valid value.\n",
    "#Computed Properties: You can use property decorators to create computed properties, which are attributes that are calculated on the fly based on other attributes"
   ]
  },
  {
   "cell_type": "code",
   "execution_count": 223,
   "metadata": {},
   "outputs": [
    {
     "name": "stdout",
     "output_type": "stream",
     "text": [
      "'test' object has no attribute '_name'\n"
     ]
    },
    {
     "data": {
      "text/plain": [
       "'test'"
      ]
     },
     "execution_count": 223,
     "metadata": {},
     "output_type": "execute_result"
    }
   ],
   "source": [
    "#13. What is data hiding, and why is it important in encapsulation? Provide examples\n",
    "# By using a private attribute (e.g., _name) and a public property (e.g., name), you can hide the internal implementation details of the object from the outside world.\n",
    "# This is important because it allows you to change the internal implementation of the object without breaking the code\n",
    "# that uses it. For example, if you have a class with a private attribute _name and\n",
    "class test:\n",
    "    def __init__(self):\n",
    "        self.__name = \"test\"\n",
    "    def get_name(self):\n",
    "        return self.__name\n",
    "q = test()\n",
    "try:\n",
    "    q._name\n",
    "except Exception as e:\n",
    "    print(e)\n",
    "#way of accing in python\n",
    "q.get_name()"
   ]
  },
  {
   "cell_type": "code",
   "execution_count": 224,
   "metadata": {},
   "outputs": [],
   "source": [
    "#14. Create a Python class called `Employee` with private attributes for salary (`__salary`) and employee ID (`__employee_id`). Provide a method to calculate yearly bonuses.\n",
    "class Employ:\n",
    "    def __init___(self,salary,employ_id) -> None:\n",
    "        self.__salry=salary\n",
    "        self.__employ_id = employ_id\n",
    "\n",
    "    def get_salary(self):\n",
    "        return self.__salry\n",
    "    def get_Employ_id(self):\n",
    "        return self.__employ_id\n",
    "    def calculate_bonoues(self,bonous_p):\n",
    "        return self.__salry * bonous_p"
   ]
  },
  {
   "cell_type": "code",
   "execution_count": 225,
   "metadata": {},
   "outputs": [],
   "source": [
    "#15. Discuss the use of accessors and mutators in encapsulation. How do they help maintain control over \n",
    "#attribute access?\n",
    "#Accessors, also known as getters, are methods that allow you to retrieve the value of an object's attribute. They provide a way to access the attribute's value without directly exposing the attribute itself. Accessors help maintain control over attribute access in several ways:\n",
    "#Data Hiding: By using accessors, you can hide the internal implementation details of an attribute. This makes it difficult for external entities to manipulate the attribute directly, reducing the risk of data corruption or misuse\n",
    "#Validation: Accessors can perform validation checks on the attribute's value before returning it. This ensures that the attribute's value is consistent with the object's internal state and adheres to any business rules or constraints.\n",
    "#Transformation: Accessors can transform the attribute's value before returning it. For example, you might want to format a date attribute in a specific way or convert a numerical value to a string.\n",
    "#Mutators, also known as setters, are methods that allow you to modify the value of an object's attribute. They provide a way to update the attribute's value while maintaining control over the modification process. Mutators help maintain control over attribute access in several ways:\n",
    "#Data Validation: Mutators can perform validation checks on the new value before updating the attribute. This ensures that the attribute's value is consistent with the object's internal state and adheres to any business rules or constraints.\n",
    "#Business Logic Enforcement: Mutators can enforce business logic rules related to the attribute's value. For example, you might want to ensure that a customer's age is within a certain range or that a product's price is not negative.\n",
    "#Side Effects: Mutators can trigger side effects, such as updating related attributes or notifying other objects of the change."
   ]
  },
  {
   "cell_type": "code",
   "execution_count": 226,
   "metadata": {},
   "outputs": [],
   "source": [
    "#16. What are the potential drawbacks or disadvantages of using encapsulation in Python\n",
    "#1. Increased Complexity:\n",
    "#Encapsulation can lead to increased complexity in code, especially for simple classes or objects. Adding accessors and mutators can make the code more verbose and harder to understand.\n",
    "#2. Over-Engineering:\n",
    "#Encapsulation can sometimes lead to over-engineering, where developers create complex accessors and mutators for attributes that don't require them. This can result in unnecessary code and decreased performance.\n",
    "#3. Performance Overhead:\n",
    "#In Python, using accessors and mutators can introduce a performance overhead due to the additional function calls. This can be significant in performance-critical applications.\n",
    "#4. Debugging Challenges:\n",
    "#Encapsulation can make debugging more challenging, as the internal state of an object is hidden from the outside world. This can make it harder to identify and fix issues.\n",
    "#5. Limited Flexibility:\n",
    "#Encapsulation can limit flexibility in certain situations. For example, if an attribute is private, it may be difficult to modify or extend its behavior without modifying the underlying class.\n",
    "#6. Inconsistent Access:\n",
    "#In Python, accessors and mutators can be inconsistent in their behavior, leading to confusion and errors. For example, an accessor might return a different type than the mutator expects.\n",
    "#7. Name Mangling:\n",
    "#Python's name mangling mechanism, which is used to implement private attributes, can lead to issues when working with subclasses or external libraries.\n"
   ]
  },
  {
   "cell_type": "code",
   "execution_count": 227,
   "metadata": {},
   "outputs": [],
   "source": [
    "#7. Create a Python class for a library system that encapsulates book information, including titles, authors, \n",
    "#and availability status.\n",
    "class Book:\n",
    "    def __init__(self, title, author, available,book_ifomation):\n",
    "        self.__title = title\n",
    "        self.__author = author\n",
    "        self.__available = available\n",
    "        self.__BI = book_ifomation\n",
    "    def get_book_tile(self):\n",
    "        return self.__title\n",
    "    def get_auther_name(self):\n",
    "        return self.__author\n",
    "    def is_available(self):\n",
    "        if self.__available == 1:\n",
    "            return \"Yes available\"\n",
    "        else:\n",
    "            return \"Not available\"\n",
    "    def set_availabilaty(self,avalable):\n",
    "        self.__available = avalable\n",
    "    def get_information(self):\n",
    "        return self.__BI\n",
    "    def __str__(self):\n",
    "        return {\"Title\": {self.__title},\n",
    "                \"Author\": {self.__author},\n",
    "                \"Book_information\": {self.__BI},\n",
    "                \"Available\": {self.__available}}\n",
    "    \n",
    "book1 = Book(\"Dsa\",\"Vihwa_Mohan\",1,\"we leanr about graph and tree all fundamental\")"
   ]
  },
  {
   "cell_type": "code",
   "execution_count": 228,
   "metadata": {},
   "outputs": [],
   "source": [
    "#18. Explain how encapsulation enhances code reusability and modularity in Python programs\n",
    "#Code Reusability:\n",
    "#Self-Contained Units: Encapsulation allows you to create self-contained units of code, where each unit (class or object) has its own data and behavior. This makes it easier to reuse these units in different parts of the program or even in other projects.\n",
    "#Decoupling: Encapsulation helps decouple objects from each other, reducing dependencies between them. This makes it easier to modify or replace one object without affecting others, promoting code reusability.\n",
    "#Modular Code: Encapsulation enables you to write modular code, where each module (class or object) has a specific responsibility. This modular structure makes it easier to reuse code in different contexts.\n",
    "#Modularity:\n",
    "\n",
    "#Separation of Concerns: Encapsulation helps separate concerns by hiding internal implementation details and exposing only the necessary information through a public interface. This separation of concerns makes it easier to modify or extend individual modules without affecting the entire program.\n",
    "#Independent Development: Encapsulation enables independent development of modules, where each module can be developed, tested, and maintained separately. This reduces the complexity of the overall program and makes it easier to modify or replace individual modules.\n",
    "#Easier Maintenance: Encapsulation makes it easier to maintain code by reducing the ripple effect of changes. Since each module is self-contained, changes to one module are less likely to affect other modules, reducing the maintenance burden.\n",
    "#How Encapsulation Enhances Code Reusability and Modularity in Python:\n",
    "#Classes and Objects: Python's class-based OOP model allows you to create classes that encapsulate data and behavior. You can create objects from these classes and reuse them throughout the program.\n",
    "#Modules and Packages: Python's module and package system enables you to organize code into reusable modules and packages. Encapsulation helps you create self-contained modules that can be easily reused in different projects.\n",
    "#Abstract Base Classes: Python's abstract base classes (ABCs) provide a way to define interfaces and abstract classes that can be reused across the program. Encapsulation helps you create ABCs that hide internal implementation details and expose only the necessary information."
   ]
  },
  {
   "cell_type": "code",
   "execution_count": 229,
   "metadata": {},
   "outputs": [],
   "source": [
    "#19. Describe the concept of information hiding in encapsulation. Why is it essential in software development\n",
    "#In encapsulation, information hiding is achieved by:\n",
    "#Encapsulating data: Hiding internal data structures and variables within an object or module, making them inaccessible directly from outside.\n",
    "#Abstracting behavior: Hiding internal implementation details of methods or functions, exposing only the necessary information through a public interface.\n",
    "#Why Information Hiding is Essential in Software Development:\n",
    "\n",
    "#Information hiding is crucial in software development for several reasons:\n",
    "\n",
    "#Reduced Coupling: By hiding internal implementation details, objects or modules become less coupled, making it easier to modify or replace one component without affecting others.\n",
    "#Improved Modularity: Information hiding enables modular code, where each module is self-contained and independent, making it easier to develop, test, and maintain.\n",
    "#Increased Security: Hiding internal implementation details reduces the risk of unauthorized access or tampering with sensitive data or logic.\n",
    "#Simplified Code Maintenance: With information hiding, changes to internal implementation details do not affect the external interface, making it easier to maintain and update code.\n",
    "#Better Abstraction: Information hiding enables better abstraction, allowing developers to focus on the essential features and behaviors of an object or module, rather than its internal workings.\n",
    "#Improved Code Reusability: By hiding internal implementation details, objects or modules become more reusable, as they can be easily integrated into different contexts without exposing their internal workings.\n",
    "#Easier Testing: Information hiding makes it easier to test code, as the internal implementation details are isolated, and only the public interface needs to be tested.\n",
    "#Benefits of Information Hiding:\n",
    "\n",
    "#Improved Code Quality: Information hiding leads to better-organized, modular, and maintainable code.\n",
    "#Reduced Complexity: By hiding internal implementation details, the complexity of the code is reduced, making it easier to understand and work with.\n",
    "#Increased Flexibility: Information hiding enables developers to change internal implementation details without affecting the external interface, making it easier to adapt to changing requirements.\n",
    "#Better Team Collaboration: Information hiding facilitates team collaboration, as developers can work on different modules or objects without affecting each other's work.\n"
   ]
  },
  {
   "cell_type": "code",
   "execution_count": 230,
   "metadata": {},
   "outputs": [],
   "source": [
    "#20. Create a Python class called `Customer` with private attributes for customer details like name, address, \n",
    "#and contact information. Implement encapsulation to ensure data integrity and security.\n",
    "class Customer:\n",
    "    def __init__(self,name,contact,addrase,) -> None:\n",
    "        self.__name = name\n",
    "        self.__contact = contact\n",
    "        self.__addrase = addrase\n",
    "    def get_coustmer_name(self):\n",
    "        return self.__name\n",
    "    def get_coustmer_conact(self):\n",
    "        return self.__contact\n",
    "    def get_coustmer_addrase(self):\n",
    "        return self.__addrase\n",
    "    def set_name(self,name):\n",
    "        if isinstance(name, str) and len(name) > 0:\n",
    "            self.__name = name\n",
    "        else:\n",
    "            raise ValueError(\"Invailid Name\")\n",
    "    def set_contact(self,contact):\n",
    "        if isinstance(contact, str) and len(contact) > 0:\n",
    "            self.__contact = contact\n",
    "        else:\n",
    "            raise ValueError(\"Invailid Contact\")\n",
    "    def set_addrase(self,addrase):\n",
    "        if isinstance(addrase, str) and len(addrase)>0:\n",
    "            self.__addrase = addrase\n",
    "        else:\n",
    "            raise ValueError(\"Invailid Address\")\n",
    "    def display_coustmer_details(self):\n",
    "        return {\"Coustmer Name\": self.__name,\n",
    "                \"Coustmer Address\": self.__addrase,\n",
    "                \"Coustmer_contact_number\":self.__contact\n",
    "                }\n",
    "    def update_coustmer_info(self,name,addresse,conatact_number):\n",
    "       self.set_name(name)\n",
    "       self.set_addrase(addresse)\n",
    "       self.set_contact(conatact_number)\n",
    "\n"
   ]
  },
  {
   "cell_type": "markdown",
   "metadata": {},
   "source": [
    "### Polymorphism:"
   ]
  },
  {
   "cell_type": "code",
   "execution_count": 231,
   "metadata": {},
   "outputs": [],
   "source": [
    "#1. What is polymorphism in Python? Explain how it is related to object-oriented programming.\n",
    "#Polymorphism is a fundamental concept in object-oriented programming (OOP) that allows for writing code that can work with different data types. In Python, polymorphism enables you to define a single interface or function that can be used with multiple types of data, making your code more flexible, reusable, and efficient.\n",
    " #Polymorphism is the ability of an object to take on multiple forms. In Python, this means that an object of a particular class can behave like an object of a different class. This is achieved through method overriding or method overloading, which allows objects of different classes to respond to the same method call\n",
    "#Polymorphism is a key feature of object-oriented programming (OOP) that enables you to write more generic and reusable code. In OOP, objects are instances of classes, and classes define the properties and behaviors of objects. Polymorphism allows objects of different classes to share a common interface or behavior, making it possible to write code that can work with multiple types of objects.\n",
    "#Inheritance: Polymorphism is closely related to inheritance, where a subclass inherits the properties and behaviors of a parent class. The subclass can then override or extend the parent class's methods to provide its own implementation.\n",
    "#Method Overloading: Polymorphism allows for method overloading, where multiple methods with the same name can be defined, each with a different parameter list. This enables objects of different classes to respond to the same method call.\n",
    "#Method Overriding: Polymorphism also enables method overriding, where a subclass provides its own implementation of a method already defined in its parent class.\n",
    "#Abstract Classes and Interfaces: Polymorphism is also related to abstract classes and interfaces, which define a contract or interface that must be implemented by any subclass or implementing class.\n"
   ]
  },
  {
   "cell_type": "code",
   "execution_count": 232,
   "metadata": {},
   "outputs": [],
   "source": [
    "#2. Describe the difference between compile-time polymorphism and runtime polymorphism in Python\n",
    "#Compile time polymorphism is when the compiler knows the type of the object at compile time.Compile-time polymorphism, also known as static polymorphism, occurs at the compile-time of the program. This type of polymorphism is achieved through method overloading or operator overloading. The compiler resolves the correct method or function to call based on the number and types of arguments passed.\n",
    "#Runtime polymorphism is when the compiler does not know the type of the object at compile time. Runtime polymorphism, also known as dynamic polymorphism, occurs at the runtime of the program. This type of polymorphism is achieved through method overriding. The correct method to call is determined at runtime based on the type of object.\n"
   ]
  },
  {
   "cell_type": "code",
   "execution_count": 233,
   "metadata": {},
   "outputs": [
    {
     "name": "stdout",
     "output_type": "stream",
     "text": [
      "Shape: Circle, Area: 78.50\n",
      "Shape: Square, Area: 16.00\n",
      "Shape: Triangle, Area: 9.00\n"
     ]
    }
   ],
   "source": [
    "#3. Create a Python class hierarchy for shapes (e.g., circle, square, triangle) and demonstrate polymorphism \n",
    "#through a common method, such as `calculate_area()`\n",
    "class Shape:\n",
    "    def __init__(self,name):\n",
    "        self.name = name\n",
    "    def calculate_area(self):\n",
    "        raise NotImplementedError(\"Subclasses must implement calculate_area method\")\n",
    "class Circle(Shape):\n",
    "    def __init__(self, name,radius):\n",
    "        super().__init__(name)\n",
    "        self.radius = radius\n",
    "    def calculatr_Method(self):\n",
    "        return 3.14 *(self.radius**2)\n",
    "\n",
    "        \n",
    "class Square(Shape):\n",
    "    def __init__(self, name,side_lenght):\n",
    "        super().__init__(name)\n",
    "        self.side_lenght = side_lenght\n",
    "    def calculatr_Method(self):\n",
    "        return self.side_lenght ** 2\n",
    "class Tringal(Shape):\n",
    "    def __init__(self, name,base,height):\n",
    "        super().__init__(name)\n",
    "        self.base = base\n",
    "        self.height = height\n",
    "    def calculatr_Method(self):\n",
    "        return 0.5*self.base*self.height\n",
    "# Create instances of shapes\n",
    "circle = Circle(\"Circle\", 5)\n",
    "square = Square(\"Square\", 4)\n",
    "triangle = Tringal(\"Triangle\", 3, 6)\n",
    "Shapes =  [circle, square, triangle]\n",
    "\n",
    "for shape in Shapes:\n",
    "    print(f\"Shape: {shape.name}, Area: {shape.calculatr_Method():.2f}\")"
   ]
  },
  {
   "cell_type": "code",
   "execution_count": 234,
   "metadata": {},
   "outputs": [
    {
     "name": "stdout",
     "output_type": "stream",
     "text": [
      "The dog barks\n",
      "The Birds Chirp\n"
     ]
    }
   ],
   "source": [
    "#4. Explain the concept of method overriding in polymorphism. Provide an example.\n",
    "#Method overriding is a fundamental concept in object-oriented programming (OOP) that allows a subclass to provide a specific implementation for a method that is already defined in its superclass. This is a key aspect of polymorphism, which enables objects of different classes to be treated as objects of a common superclass.\n",
    "#Ex:-\n",
    "class Animal:\n",
    "    def make_sound(self):\n",
    "        print(\"The animal makes a sound\")\n",
    "class Dog(Animal):\n",
    "    def make_sound(self):\n",
    "        print(\"The dog barks\")\n",
    "class Bird(Animal):\n",
    "    def make_sound(self):\n",
    "        print(\"The Birds Chirp\")\n",
    "\n",
    "dog = Dog()\n",
    "bird = Bird()\n",
    "dog.make_sound()\n",
    "bird.make_sound()\n",
    "\n"
   ]
  },
  {
   "cell_type": "code",
   "execution_count": 235,
   "metadata": {},
   "outputs": [
    {
     "name": "stdout",
     "output_type": "stream",
     "text": [
      "Hello, Haidar\n",
      "Hello, Haidar. You are 25 years old.\n",
      "Dog sound\n",
      "cat sound\n"
     ]
    }
   ],
   "source": [
    "#5. How is polymorphism different from method overloading in Python? Provide examples for both\n",
    "#Method Overloading: Method overloading is a technique where multiple methods with the same name can be defined, but with different parameter lists. This allows for more flexibility in how a method can be called, making the code more expressive and easier to use. In Python, method overloading is not supported in the classical sense, but it can be achieved using optional arguments and the *args and **kwargs\n",
    "def greet(name,age=None):\n",
    "    if age is None:\n",
    "        print(f\"Hello, {name}\")\n",
    "    else:\n",
    "        print(f\"Hello, {name}. You are {age} years old.\")\n",
    "greet(\"Haidar\")\n",
    "greet(\"Haidar\", 25)\n",
    "#Polymorphism: Polymorphism is the ability of an object to take on multiple forms. In Python, polymorphism is achieved through method overriding, where a subclass provides a different implementation of a method that is already defined in its superclass. This allows objects of different classes to be treated as if they were of the same class, as long as they share a common interface\n",
    "class Animal:\n",
    "    def sound(self):\n",
    "        print(\"Animal sound\")\n",
    "class Dog(Animal):\n",
    "    def sound(self):\n",
    "        print(\"Dog sound\")\n",
    "class Cat(Animal):\n",
    "    def sound(self):\n",
    "        print(\"cat sound\")\n",
    "def make_sound(animal:Animal):\n",
    "    animal.sound()\n",
    "dog = Dog()\n",
    "cat = Cat()\n",
    "make_sound(dog)\n",
    "make_sound(cat)"
   ]
  },
  {
   "cell_type": "code",
   "execution_count": 236,
   "metadata": {},
   "outputs": [],
   "source": [
    "#6. Create a Python class called `Animal` with a method `speak()`. Then, create child classes like `Dog`, `Cat`, and `Bird`, each with their own `speak()` method. Demonstrate polymorphism by calling the `speak()` method \n",
    "#on objects of different subclasses.\n",
    "class Animal:\n",
    "    def speak(self):\n",
    "        print(\"Animal speak\")\n",
    "class Dog(Animal):\n",
    "    def speak(self):\n",
    "        print(\"Dog can bark\")\n",
    "class cat(Animal):\n",
    "    def speak(self):\n",
    "        print(\"cat can meow\")\n",
    "class Bird(Animal):\n",
    "    def speak(self):\n",
    "        print(\"Bird can chirp\")"
   ]
  },
  {
   "cell_type": "code",
   "execution_count": 237,
   "metadata": {},
   "outputs": [
    {
     "name": "stdout",
     "output_type": "stream",
     "text": [
      "Area:78.5,Perimiter:31.400000000000002\n",
      "Area:24,Perimiter:20\n"
     ]
    }
   ],
   "source": [
    "#7. Discuss the use of abstract methods and classes in achieving polymorphism in Python. Provide an example \n",
    "#using the `abc` \n",
    "#Abstract methods and classes are essential components in achieving polymorphism in Python. Polymorphism is the ability of an object to take on multiple forms, and abstract methods and classes help to achieve this by providing a blueprint for other classes to follow.\n",
    "#Abstract classes are classes that cannot be instantiated on their own and are meant to be inherited by other classes. They provide a way to define a common interface or set of methods that must be implemented by any subclass\n",
    "from abc import ABC,abstractmethod\n",
    "class Shape(ABC):\n",
    "    @abstractmethod\n",
    "    def area(self):\n",
    "        pass\n",
    "    @abstractmethod\n",
    "    def perimeter(self):\n",
    "        pass\n",
    "class Circle(Shape):\n",
    "    def __init__(self,radius) -> None:\n",
    "        self.radius=radius\n",
    "    def area(self):\n",
    "        return 3.14*(self.radius**2)\n",
    "    def perimeter(self):\n",
    "        return 2*3.14*self.radius\n",
    "class Rectangle(Shape):\n",
    "    def __init__(self,width,height):\n",
    "        self.width = width\n",
    "        self.height = height\n",
    "    def area(self):\n",
    "        return self.width*self.height\n",
    "    def perimeter(self):\n",
    "        return 2*(self.width+self.height)\n",
    "shapes = [Circle(5),Rectangle(4,6)]\n",
    "for s in shapes:\n",
    "    print(f\"Area:{s.area()},Perimiter:{s.perimeter()}\")\n",
    "    "
   ]
  },
  {
   "cell_type": "code",
   "execution_count": 238,
   "metadata": {},
   "outputs": [
    {
     "name": "stdout",
     "output_type": "stream",
     "text": [
      "meclearn is moving at 320 km/hr\n",
      "MTB is moving at 20 km/hr\n",
      "speed boat is moving at 100 km/hr\n"
     ]
    }
   ],
   "source": [
    "#8. Create a Python class hierarchy for a vehicle system (e.g., car, bicycle, boat) and implement a polymorphic `start()` method that prints a message specific to each vehicle type\n",
    "class Vehical:\n",
    "    def __init__(self, name, speed):\n",
    "        self.name = name\n",
    "        self.speed = speed\n",
    "    def move(self):\n",
    "        print(f\"{self.name} is moving at {self.speed} km/hr\")\n",
    "    def stop(self):\n",
    "        print(f\"{self.name} has stopped\")\n",
    "class Car(Vehical):\n",
    "    def __init__(self, name, speed, color):\n",
    "        super().__init__(name, speed)\n",
    "        self.color = color\n",
    "    def honk(self):\n",
    "        print(f\"{self.name} is honking\")\n",
    "class Bicycle(Vehical):\n",
    "    def __init__(self, name, speed, gears):\n",
    "        super().__init__(name, speed)\n",
    "        self.gears = gears\n",
    "    def ring_bell(self):\n",
    "        print(f\"{self.name} is ringing bell\")\n",
    "class Boat(Vehical):\n",
    "    def __init__(self, name, speed, enginess):\n",
    "        super().__init__(name, speed)\n",
    "        self.enginess = enginess\n",
    "    def horn(self):\n",
    "        print(f\"{self.name} is blowing horn\")\n",
    "#poly. behavior:\n",
    "def move_all(vehicals):\n",
    "    for vehical in vehicals:\n",
    "        vehical.move()\n",
    "car = Car(\"meclearn\",320,\"black\")\n",
    "bicycle = Bicycle(\"MTB\",20,6)\n",
    "boat = Boat(\"speed boat\",100,\"diesel\")\n",
    "vehicals = [car,bicycle,boat]\n",
    "move_all(vehicals)"
   ]
  },
  {
   "cell_type": "code",
   "execution_count": 239,
   "metadata": {},
   "outputs": [
    {
     "name": "stdout",
     "output_type": "stream",
     "text": [
      "True\n",
      "True\n",
      "True\n"
     ]
    }
   ],
   "source": [
    "#9. Explain the significance of the `isinstance()` and `issubclass()` functions in Python polymorphism.\n",
    "#The isinstance() function is used to check if an object is an instance of a particular class or a subclass thereof. It takes two arguments: the object to be checked and the class to be checked against. The function returns True if the object is an instance of the class or a subclass, and False\n",
    "class Animal:\n",
    "    pass\n",
    "class Dog(Animal):\n",
    "    pass\n",
    "my_dog = Dog()\n",
    "print(isinstance(my_dog,Animal))\n",
    "print(isinstance(my_dog,Dog))\n",
    "#The issubclass() function is used to check if a class is a subclass of another class. It takes two arguments: the subclass to be checked and the superclass to be checked against. The function returns True if the subclass is a subclass of the superclass, and False otherwise.\n",
    "print(issubclass(Dog,Animal))"
   ]
  },
  {
   "cell_type": "code",
   "execution_count": 240,
   "metadata": {},
   "outputs": [
    {
     "name": "stdout",
     "output_type": "stream",
     "text": [
      "Area of the shape is: 78.5\n",
      "Perimeter of the shape is: 31.400000000000002\n",
      "Area of the shape is: 24\n",
      "Perimeter of the shape is: 20\n"
     ]
    }
   ],
   "source": [
    "#10. What is the role of the `@abstractmethod` decorator in achieving polymorphism in Python? Provide an \n",
    "#example.\n",
    "#@abstractmethod decorator plays a crucial role in achieving polymorphism by defining abstract methods in abstract base classes (ABCs)\n",
    " #An ABC is a class that cannot be instantiated and is intended to be inherited by other classes. ABCs define a blueprint for subclasses to follow, ensuring that they implement specific methods.\n",
    "#The @abstractmethod decorator is used to define abstract methods in an ABC. An abstract method is a method that must be implemented by any subclass of the ABC. The decorator indicates that the method must be overridden by any subclass.\n",
    "#Defining a contract: The abstract method defines a contract that must be implemented by any subclass. This ensures that subclasses provide their own implementation of the method\n",
    "# Enforcing implementation: By using the @abstractmethod decorator, you ensure that subclasses cannot be instantiated unless they provide an implementation of the abstract method.\n",
    "#Allowing for polymorphic behavior: Because subclasses must implement the abstract method, you can write code that works with objects of different classes, as long as they share a common ABC\n",
    "#EX:-\n",
    "from abc import ABC, abstractmethod\n",
    "class Shape(ABC):\n",
    "    @abstractmethod\n",
    "    def area(self):\n",
    "        pass\n",
    "    @abstractmethod\n",
    "    def perimiter(self):\n",
    "        pass\n",
    "class Circle(Shape):\n",
    "    def __init__(self, radius):\n",
    "        self.radius = radius\n",
    "    def area(self):\n",
    "        return 3.14 * self.radius ** 2\n",
    "    def perimiter(self):\n",
    "        return 2*3.14*self.radius\n",
    "class Rectangle(Shape):\n",
    "    def __init__(self, length, breadth):\n",
    "        self.lenght = length\n",
    "        self.breadth = breadth\n",
    "    def area(self):\n",
    "        return self.lenght * self.breadth\n",
    "    def perimiter(self):\n",
    "        return 2*(self.lenght+self.breadth)\n",
    "def calucates_propties(shape:Shape):\n",
    "    print(\"Area of the shape is:\",shape.area())\n",
    "    print(\"Perimeter of the shape is:\",shape.perimiter())\n",
    "circle = Circle(5)\n",
    "re = Rectangle(4,6)\n",
    "calucates_propties(circle)\n",
    "calucates_propties(re)"
   ]
  },
  {
   "cell_type": "code",
   "execution_count": 241,
   "metadata": {},
   "outputs": [
    {
     "name": "stdout",
     "output_type": "stream",
     "text": [
      "Area of the shape is: 78.5\n",
      "Perimeter of the shape is: 31.400000000000002\n",
      "Area of the shape is: 24\n",
      "Perimeter of the shape is: 20\n",
      "Area of the shape is: 765.0\n",
      "Perimeter of the shape is: 79\n"
     ]
    }
   ],
   "source": [
    "#11. Create a Python class called `Shape` with a polymorphic method `area()` that calculates the area of different shapes (e.g., circle, rectangle, triangle).\n",
    "from abc import ABC, abstractmethod\n",
    "class Shape(ABC):\n",
    "    @abstractmethod\n",
    "    def area(self):\n",
    "        pass\n",
    "    @abstractmethod\n",
    "    def perimiter(self):\n",
    "        pass\n",
    "class Circle(Shape):\n",
    "    def __init__(self, radius):\n",
    "        self.radius = radius\n",
    "    def area(self):\n",
    "        return 3.14 * self.radius ** 2\n",
    "    def perimiter(self):\n",
    "        return 2*3.14*self.radius\n",
    "class Rectangle(Shape):\n",
    "    def __init__(self, length, breadth):\n",
    "        self.lenght = length\n",
    "        self.breadth = breadth\n",
    "    def area(self):\n",
    "        return self.lenght * self.breadth\n",
    "    def perimiter(self):\n",
    "        return 2*(self.lenght+self.breadth)\n",
    "class Tringle(Shape):\n",
    "    def __init__(self, base, height):\n",
    "        self.base = base\n",
    "        self.height = height\n",
    "    def area(self):\n",
    "        return 0.5*self.base*self.height\n",
    "    def perimiter(self):\n",
    "        return self.height + self.base\n",
    "def calucates_propties(shape:Shape):\n",
    "    print(\"Area of the shape is:\",shape.area())\n",
    "    print(\"Perimeter of the shape is:\",shape.perimiter())\n",
    "circle = Circle(5)\n",
    "re = Rectangle(4,6)\n",
    "tri = Tringle(34,45)\n",
    "calucates_propties(circle)\n",
    "calucates_propties(re)\n",
    "calucates_propties(tri)"
   ]
  },
  {
   "cell_type": "code",
   "execution_count": 242,
   "metadata": {},
   "outputs": [],
   "source": [
    "#12. Discuss the benefits of polymorphism in terms of code reusability and flexibility in Python programs.\n",
    "#Benefits of Polymorphism in Code Reusability:\n",
    "#Reduced Code Duplication: With polymorphism, you can write a single function or method that can work with multiple data types, eliminating the need to duplicate code for each type. This reduces code duplication and makes maintenance easier.\n",
    "#Generic Functions: Polymorphic functions can be designed to work with a wide range of data types, making them more generic and reusable. This allows you to write functions that can be applied to different scenarios without modification.\n",
    "#Increased Modularity: Polymorphism enables you to write modular code that can be easily extended or modified without affecting other parts of the program. This makes it easier to develop and maintain large programs.\n",
    "#Benefits of Polymorphism in Flexibility:\n",
    "#Dynamic Behavior: Polymorphism allows you to write code that can adapt to different situations at runtime. This enables your program to respond to changing conditions and user inputs more effectively.\n",
    "#Easier Maintenance: With polymorphism, you can modify the behavior of your code without changing its underlying structure. This makes it easier to update your program to meet new requirements or fix bugs.\n"
   ]
  },
  {
   "cell_type": "code",
   "execution_count": 243,
   "metadata": {},
   "outputs": [],
   "source": [
    "#13. Explain the use of the `super()` function in Python polymorphism. How does it help call methods of parent \n",
    "#classes\n",
    "#The super() function in Python is used to access methods and properties of parent classes in a class hierarchy. It is an essential tool in Python polymorphism, allowing you to call methods of parent classes from child classes.\n"
   ]
  },
  {
   "cell_type": "code",
   "execution_count": 244,
   "metadata": {},
   "outputs": [
    {
     "name": "stdout",
     "output_type": "stream",
     "text": [
      "Account VDUVB123\n",
      "Deposited $500.00 into account VDUVB123. NEW Balance: $1500.00\n",
      "Withdrew $200.00 from account VDUVB123. NEW Balanace: $1300.00\n",
      "Account VDUVB123\n",
      "Deposited $500.00 into account VDUVB123. NEW Balance: $1500.00\n",
      "Withdrew $200.00 from account VDUVB123. NEW Balance: $1300.00\n",
      "Account FDSFFDS\n",
      "Deposited $500.00 into account FDSFFDS. NEW Balance: $2500.00\n",
      "Withdrew $200.00 from account FDSFFDS. NEW Balance $ 2300.00\n"
     ]
    }
   ],
   "source": [
    "#4. Create a Python class hierarchy for a banking system with various account types (e.g., savings, checking, credit card) and demonstrate polymorphism by implementing a common `withdraw()` method.\n",
    "class BankAccount:\n",
    "    def __init__(self,account_number, balance=0):\n",
    "        self.account_number = account_number\n",
    "        self.balance = balance\n",
    "    def withdraw(self, amount):\n",
    "        raise NotImplementedError(\"not implemente\")\n",
    "    def deposit(self,amount):\n",
    "        self.balance += amount\n",
    "        print(f\"Deposited ${amount:.2f} into account {self.account_number}. NEW Balance: ${self.balance:.2f}\")\n",
    "#Saving Account\n",
    "class SavingAccount(BankAccount):\n",
    "    def __init__(self, account_number, balance=0,intrest_rate=0.05):\n",
    "        super().__init__(account_number, balance)\n",
    "        self.intrest_rate = intrest_rate\n",
    "    def withdraw(self, amount):\n",
    "        if amount > self.balance:\n",
    "            print(\"Insufficient funds\")\n",
    "        else:\n",
    "            self.balance -=amount\n",
    "            print(f\"Withdrew ${amount:.2f} from account {self.account_number}. NEW Balanace: ${self.balance:.2f}\")\n",
    "class Checking_account(BankAccount):\n",
    "    def __init__(self, account_number, balance=0,overdraft_limit=1000,):\n",
    "        super().__init__(account_number, balance)\n",
    "        self.overdraft_limit = overdraft_limit\n",
    "    def withdraw(self, amount):\n",
    "        if amount > self.balance + self.overdraft_limit:\n",
    "            print(\"Transaction declined\")\n",
    "        else:\n",
    "            self.balance -= amount\n",
    "            print(f\"Withdrew ${amount:.2f} from account {self.account_number}. NEW Balance: ${self.balance:.2f}\")\n",
    "class creditCard(BankAccount):\n",
    "    def __init__(self, account_number, balance=0,credit_limit=5000):\n",
    "        super().__init__(account_number, balance)         \n",
    "        self.credit_limit = credit_limit\n",
    "    def withdraw(self, amount):\n",
    "        if amount > self.credit_limit:\n",
    "            print(\"Transaction declined: Credit Limit Exceeded \")\n",
    "        else:\n",
    "            self.balance -= amount\n",
    "            print(f\"Withdrew ${amount:.2f} from account {self.account_number}. NEW Balance $ {self.balance:.2f}\")\n",
    "accounts = [\n",
    "    SavingAccount(\"VDUVB123\",1000),\n",
    "    Checking_account(\"VDUVB123\",1000,overdraft_limit=2000),\n",
    "    creditCard(\"FDSFFDS\",2000,credit_limit=100000)\n",
    "\n",
    "]\n",
    "for account in accounts:\n",
    "    print(f\"Account {account.account_number}\")\n",
    "    account.deposit(500)\n",
    "    account.withdraw(200)"
   ]
  },
  {
   "cell_type": "code",
   "execution_count": 245,
   "metadata": {},
   "outputs": [
    {
     "name": "stdout",
     "output_type": "stream",
     "text": [
      "5 9\n"
     ]
    }
   ],
   "source": [
    "#15. Describe the concept of operator overloading in Python and how it relates to polymorphism. Provide \n",
    "#examples using operators like `+` and `*`.\n",
    "#Operator overloading is a feature in Python that allows developers to redefine the behavior of operators when working with user-defined objects. This means that you can use operators like +, *, <, >, etc. with your own classes, making your code more intuitive and easier to read\n",
    "#Operator overloading is closely related to polymorphism, which is the ability of an object to take on multiple forms. In the context of operator overloading, polymorphism allows you to use the same operator with different types of objects, and the correct behavior will be executed based on the type of object.\n",
    "#In Python, operator overloading is achieved by defining special methods in your class. These special methods are surrounded by double underscores, and they have the same name as the operator you want to overload. For example, to overload the + operator, you would define a method called __add__.\n",
    "#Example of operator overloading\n",
    "\n",
    "class Vector:\n",
    "    def __init__(self, x, y):\n",
    "        self.x = x\n",
    "        self.y = y\n",
    "    def __add__(self,other):\n",
    "        return Vector(self.x+other.x,self.y+other.y)\n",
    "v1 = Vector(2,4)\n",
    "v2 = Vector(3,5)\n",
    "v3 = v1+v2\n",
    "print(v3.x,v3.y)"
   ]
  },
  {
   "cell_type": "code",
   "execution_count": 246,
   "metadata": {},
   "outputs": [],
   "source": [
    "#6. What is dynamic polymorphism, and how is it achieved in Python\n",
    "#Dynamic polymorphism is a concept in object-oriented programming (OOP) that allows objects of different classes to be treated as objects of a common superclass. This means that objects of different classes can be used interchangeably, as long as they share a common interface or parent class.\n",
    "#In Python, dynamic polymorphism is achieved through a combination of mechanisms:\n",
    "#Duck Typing: Python uses duck typing, which means that an object is considered to be of a certain type if it has the same attributes and methods as that type, regardless of its actual class. This allows objects of different classes to be treated as if they were of the same type.\n",
    "#Method Resolution Order (MRO): Python uses a method resolution order (MRO) to determine which method to call when an object is treated as if it were of a certain type. The MRO is a list of classes that are searched in order to find a method or attribute.\n",
    "#Abstract Base Classes (ABCs): Python provides abstract base classes (ABCs) that define an interface or a set\n"
   ]
  },
  {
   "cell_type": "code",
   "execution_count": 247,
   "metadata": {},
   "outputs": [
    {
     "name": "stdout",
     "output_type": "stream",
     "text": [
      "Najish's salary: $120000.00\n",
      "Rehan's salary: $82000.00\n",
      "Ziad's salary: $65000.00\n"
     ]
    }
   ],
   "source": [
    "#17. Create a Python class hierarchy for employees in a company (e.g., manager, developer, designer) and implement polymorphism through a common `calculate_salary()` method.\n",
    "from abc import  ABC,abstractmethod\n",
    "class Employe(ABC):\n",
    "    def __init__(r,name,salary):\n",
    "        r.name = name\n",
    "        r.salary = salary\n",
    "    @abstractmethod\n",
    "    def calculate_salary(r):\n",
    "        raise NotImplementedError(\"Sorry We Make It Soon\")\n",
    "class manager(Employe):\n",
    "    def __init__(r,name,salary,bonus):\n",
    "        super().__init__(name,salary)\n",
    "        r.bonus = bonus\n",
    "\n",
    "    def calculate_salary(r):\n",
    "        return r.salary + r.bonus\n",
    "class Manager(Employe):\n",
    "    def __init__(r,name,salary,bonus):\n",
    "        super().__init__(name,salary)\n",
    "        r.bonus = bonus\n",
    "    def calculate_salary(r):\n",
    "        return r.salary + r.bonus\n",
    "class Developer(Employe):\n",
    "    def __init__(r,name,salary,hourly_work,hourly_rate):\n",
    "        super().__init__(name,salary)\n",
    "        r.hourly_work = hourly_work\n",
    "        r.hourly_rate = hourly_rate\n",
    "\n",
    "    def calculate_salary(r):\n",
    "        return r.salary + (r.hourly_work * r.hourly_rate)\n",
    "class Designer(Employe):\n",
    "    def __init__(r,name,salary,project,rate):\n",
    "        super().__init__(name,salary)\n",
    "        r.project = project\n",
    "        r.rate = rate\n",
    "    def calculate_salary(r):\n",
    "        return r.salary + (r.project * r.rate)\n",
    "\n",
    "manager = Manager(\"Najish\", 100000, 20000)\n",
    "developer = Developer(\"Rehan\", 80000, 40, 50)\n",
    "designer = Designer(\"Ziad\", 60000, 5, 1000)\n",
    "\n",
    "# Calculate salaries using polymorphism\n",
    "employees = [manager, developer, designer]\n",
    "for employee in employees:\n",
    "    print(f\"{employee.name}'s salary: ${employee.calculate_salary():.2f}\")"
   ]
  },
  {
   "cell_type": "code",
   "execution_count": 248,
   "metadata": {},
   "outputs": [
    {
     "name": "stdout",
     "output_type": "stream",
     "text": [
      "5,3410,6,0.6666666666666666\n"
     ]
    }
   ],
   "source": [
    "#18. Discuss the concept of function pointers and how they can be used to achieve polymorphism in Python\n",
    "#In Python, function pointers are not explicitly supported, but they can be achieved through the use of higher-order functions, which are functions that take other functions as arguments or return functions as output.\n",
    "#For example, the map() function in Python takes a function and an iterable as arguments and applies\n",
    "#the function to each element of the iterable, returning a new iterable with the results. This can\n",
    "#be used to achieve polymorphism in Python by passing different functions to the map() function\n",
    "#and also from lambda somehow\n",
    "opreations = {\n",
    "    \"add\":lambda x,y : x+y,\n",
    "    \"subtarct\": lambda x,y : x-y,\n",
    "    \"multiply\": lambda x,y : x*y,\n",
    "    \"divide\": lambda x,y : x/y\n",
    "}\n",
    "def calculate(opreations_name,x,y):\n",
    "    return opreations[opreations_name](x,y)\n",
    "result_1 = calculate(\"add\",2,3)\n",
    "result_2 = calculate(\"subtarct\",3466,56)\n",
    "result_3 = calculate(\"multiply\",2,3)\n",
    "result_4 = calculate(\"divide\",2,3)\n",
    "print(result_1,result_2,result_3,result_4,sep=\",\")"
   ]
  },
  {
   "cell_type": "code",
   "execution_count": 249,
   "metadata": {},
   "outputs": [],
   "source": [
    "#19. Explain the role of interfaces and abstract classes in polymorphism, drawing comparisons between them\n",
    "#Interfaces and abstract classes are two fundamental concepts in object-oriented programming (OOP) that play a crucial role in achieving polymorphism. While they share some similarities, they have distinct differences in their purpose, implementation, and usage.\n",
    "#Interfaces:An interface is a abstract contract that specifies a set of methods that must be implemented by any class that implements it. An interface defines a blueprint of methods without providing any implementation. It's a way to define a common set of methods that can be called by other classes, without caring about how they are implemented.\n",
    "#Abstract: Interfaces are abstract, meaning they cannot be instantiated on their own.\n",
    "#Multiple inheritance: A class can implement multiple interfaces.\n",
    "#No implementation: Interfaces do not provide any implementation for the methods they declare.\n",
    "#Contract: Interfaces define a contract that must be followed by any class that implements them.\n",
    "#Abstract Classes:\n",
    "#An abstract class is a class that cannot be instantiated on its own and is intended to be inherited by other classes. An abstract class provides a partial implementation of a class, with some methods and properties defined, while others are left abstract\n",
    "#Key characteristics of abstract classes:\n",
    "#Abstract: Abstract classes are abstract, meaning they cannot be instantiated on their own.\n",
    "#Single inheritance: A class can only inherit from one abstract class.\n",
    "#Partial implementation: Abstract classes provide a partial implementation of a class, with some methods and properties defined.\n",
    "#Inheritance: Abstract classes are intended to be inherited by other classes."
   ]
  },
  {
   "cell_type": "code",
   "execution_count": 250,
   "metadata": {},
   "outputs": [
    {
     "name": "stdout",
     "output_type": "stream",
     "text": [
      "Birds sleep on tree\n",
      "they eat warm\n",
      "Bird Chirp\n",
      "None None None\n",
      "Lion sleep on ground\n",
      "they eat meat\n",
      "Lion roar\n",
      "None None None\n"
     ]
    }
   ],
   "source": [
    "#Create a Python class for a zoo simulation, demonstrating polymorphism with different animal types (e.g., mammals, birds, reptiles) and their behavior (e.g., eating, sleeping, making sounds).\n",
    "from abc import ABC,abstractmethod\n",
    "class Animal:\n",
    "    @abstractmethod\n",
    "    def sleeping(self):\n",
    "        raise NotImplemented\n",
    "    @abstractmethod\n",
    "    def eating(self):\n",
    "        raise NotImplemented\n",
    "    @abstractmethod\n",
    "    def sound(self):\n",
    "        raise NotImplemented\n",
    "class Birds(Animal):\n",
    "    def sleeping(self):\n",
    "        print(\"Birds sleep on tree\")\n",
    "    def eating(self):\n",
    "        print(\"they eat warm\")\n",
    "    def sound(self):\n",
    "        print(\"Bird Chirp\")\n",
    "class Lion(Animal):\n",
    "    def sleeping(self):\n",
    "        print(\"Lion sleep on ground\")\n",
    "    def eating(self):\n",
    "        print(\"they eat meat\")\n",
    "    def sound(self):\n",
    "        print(\"Lion roar\")\n",
    "bird = Birds()\n",
    "lion = Lion()\n",
    "animal = [bird,lion]\n",
    "for a in animal:\n",
    "    print(a.sleeping(),a.eating(),a.sound())\n"
   ]
  },
  {
   "cell_type": "markdown",
   "metadata": {},
   "source": [
    "### Abstraction:"
   ]
  },
  {
   "cell_type": "code",
   "execution_count": 251,
   "metadata": {},
   "outputs": [],
   "source": [
    "#1. What is abstraction in Python, and how does it relate to object-oriented programming?\n",
    "#abstraction is the process of exposing only the necessary information to the outside world while concealing the implementation details.\n",
    "#Python, abstraction is achieved through the use of abstract classes, interfaces, and abstract methods. An abstract class is a class that cannot be instantiated on its own and is intended to be inherited by other classes. An abstract method is a method that has a declaration but does not have an implementation. Abstract classes and methods provide a way to define an interface or a blueprint for other classes to follow, without specifying how the interface should be implemented.\n",
    "#Abstraction in Python relates to object-oriented programming in several ways\n",
    "#Encapsulation: Abstraction helps to encapsulate data and behavior within an object, making it harder for other parts of the program to access or modify them directly. This leads to better data hiding and improved code organization.\n",
    "#Inheritance: Abstract classes and methods enable inheritance, which allows developers to create a hierarchy of classes that share common attributes and behavior. This facilitates code reuse and a more structured approach to programming.\n",
    "#Polymorphism: Abstraction enables polymorphism, which is the ability of an object to take on multiple forms. By defining an abstract interface, developers can create objects that can be treated as if they were of a different class, allowing for more flexibility and generic code.\n",
    "#Modularity: Abstraction promotes modularity by breaking down a large program into smaller, independent modules that can be developed, tested, and maintained separately. This makes it easier to modify or replace individual modules without affecting the entire program.\n",
    "#Reusability: Abstract classes and methods provide a way to define reusable code that can be applied to different contexts, reducing code duplication and improving overall program efficiency."
   ]
  },
  {
   "cell_type": "code",
   "execution_count": 252,
   "metadata": {},
   "outputs": [],
   "source": [
    "#2. Describe the benefits of abstraction in terms of code organization and complexity reduction\n",
    "#AS:-#By abstracting away implementation details, developers can create more modular, maintainable, and scalable codebases. Here are the benefits of abstraction in terms of code organization and complexity reduction:\n",
    "#1.Modularity: Abstraction enables developers to break down complex systems into smaller, independent modules. Each module can be designed to perform a specific task, making it easier to understand, modify, and reuse\n",
    "#2.Encapsulation: Abstraction helps to encapsulate implementation details within a module, hiding them from the outside world. This makes it easier to change or replace individual modules without affecting the entire system.\n",
    "#3.Decoupling: Abstraction reduces coupling between modules, allowing them to be developed, tested, and maintained independently. This makes it easier to modify or replace individual modules without affecting other parts of the system.\n",
    "#Complexity Reduction:\n",
    "#1.Simplification: Abstraction simplifies complex systems by hiding implementation details and presenting a simpler interface to the outside world. This makes it easier for developers to understand and work with the system.\n",
    "#2.Reduced Cognitive Load: By abstracting away implementation details, developers can focus on higher-level concepts and logic, reducing the cognitive load associated with understanding complex systems.\n",
    "#3.Improved Readability: Abstraction improves code readability by providing a clear, concise, and consistent interface to the outside world. This makes it easier for developers to understand the code and identify areas that need improvement.\n",
    "#4.Easier Maintenance: Abstraction makes it easier to maintain and update codebases by allowing developers to modify or replace individual modules without affecting the entire system.\n",
    "#5.Reusability: Abstraction enables code reuse by providing a modular, self-contained implementation that can be easily integrated into other systems or applications.\n",
    "#6.Improved Scalability: Abstraction enables developers to scale systems more easily by adding or removing modules as needed, without affecting the overall architecture of the system.\n"
   ]
  },
  {
   "cell_type": "code",
   "execution_count": 253,
   "metadata": {},
   "outputs": [
    {
     "name": "stdout",
     "output_type": "stream",
     "text": [
      "Circel Area 78.50\n",
      "Rectiangle Area 24.00\n"
     ]
    }
   ],
   "source": [
    "#3. Create a Python class called `Shape` with an abstract method `calculate_area()`. Then, create child classes (e.g., `Circle`, `Rectangle`) that implement the `calculate_area()` method. Provide an example of \n",
    "#using these classes.\n",
    "from abc import ABC,abstractmethod\n",
    "class Shape(ABC):\n",
    "    @abstractmethod\n",
    "    def calculate_area(self):\n",
    "        pass\n",
    "class Circle(Shape):\n",
    "    def __init__(self,radius) -> None:\n",
    "        self.radius = radius\n",
    "    def calculate_area(self):\n",
    "        return 3.14 * (self.radius**2)\n",
    "class Rectangle(Shape):\n",
    "    def __init__(self,width,height) -> None:\n",
    "        self.width = width\n",
    "        self.height = height\n",
    "    def calculate_area(self):\n",
    "        return self.height * self.width\n",
    "circle = Circle(5)\n",
    "print(f\"Circel Area {circle.calculate_area():.2f}\")\n",
    "rectangle = Rectangle(4,6)\n",
    "print(f\"Rectiangle Area {rectangle.calculate_area():.2f}\")"
   ]
  },
  {
   "cell_type": "code",
   "execution_count": 254,
   "metadata": {},
   "outputs": [],
   "source": [
    "#4. Explain the concept of abstract classes in Python and how they are defined using the `abc` module. Provide \n",
    "#an example.\n",
    "#Answer: In Python, an abstract class is a class that cannot be instantiated on its own and is intended to be inherited by other classes. Abstract classes provide a way to define a blueprint for other classes to follow, without creating a concrete implementation.\n",
    "# They are useful when you want to define a common interface or set of methods that must be implemented by subclasses, but you don't want to provide a default implementation.\n",
    "#YOU can define abstract class using abc modeul:\n",
    "from abc import ABC\n",
    "class AbstractClass(ABC):\n",
    "    @abc.abstractmethod\n",
    "    def abstract_method(self):\n",
    "        pass\n",
    "    @abc.abstractmethod\n",
    "    def do_somthing(self):\n",
    "        pass"
   ]
  },
  {
   "cell_type": "code",
   "execution_count": 255,
   "metadata": {},
   "outputs": [],
   "source": [
    "#5. How do abstract classes differ from regular classes in Python? Discuss their use cases.\n",
    "#Abstract classes cannot be instantiated directly. They are meant to be inherited by other classes.\n",
    "#Abstract classes can contain both abstract methods (methods declared without an implementation) and concrete methods (methods with an implementation).\n",
    "\n",
    "#Abstract classes are typically used to define an interface or a blueprint for other classes to follow.\n",
    "\n",
    "#Abstract classes can also contain state (attributes) and behavior (methods) that can be shared by their subclasses.\n",
    "#Use cases for abstract classes include:\n",
    "#Defining an interface: Abstract classes can be used to define an interface or a contract that must be implemented by any subclass. This ensures that subclasses provide a certain set of methods or behaviors.\n",
    "\n",
    "#Providing a base implementation: Abstract classes can provide a base implementation that can be shared by their subclasses. This can reduce code duplication and make it easier to maintain a group of related classes.\n",
    "\n",
    "#Encapsulating shared state and behavior: Abstract classes can encapsulate shared state and behavior that can be used by their subclasses. This can make it easier to manage complex systems and promote code reuse\n"
   ]
  },
  {
   "cell_type": "code",
   "execution_count": 256,
   "metadata": {},
   "outputs": [
    {
     "name": "stdout",
     "output_type": "stream",
     "text": [
      "Withdrew $999. New balance: $1\n",
      "Deposit $133 New balance $134\n"
     ]
    }
   ],
   "source": [
    "#6.. Create a Python class for a bank account and demonstrate abstraction by hiding the account balance and \n",
    "#providing methods to deposit and withdraw funds.\n",
    "class BankAccount:\n",
    "    def __init__(self,initial_balance) -> None:\n",
    "        self.__balance = initial_balance\n",
    "    def deposit(self,amount):\n",
    "        if amount>0:\n",
    "            self.__balance += amount\n",
    "            print(f\"Deposit ${amount} New balance ${self.__balance}\")\n",
    "        else:\n",
    "            print(\"Invalid amount\")\n",
    "    def withdraw(self,amount):\n",
    "        if amount>0 and amount<=self.__balance:\n",
    "            self.__balance -= amount\n",
    "            print(f\"Withdrew ${amount}. New balance: ${self.__balance}\")\n",
    "        elif amount<=0:\n",
    "            print(\"Invalid amount\")\n",
    "        else:\n",
    "            print(\"Insufficient funds\")\n",
    "p = BankAccount(1000)\n",
    "p.withdraw(999)\n",
    "p.deposit(133)"
   ]
  },
  {
   "cell_type": "code",
   "execution_count": 257,
   "metadata": {},
   "outputs": [],
   "source": [
    "#7. Discuss the concept of interface classes in Python and their role in achieving abstraction.\n",
    "#An interface class in Python is a blueprint for a class that defines a set of methods that a class must implement. It does not provide any implementation details, but rather specifies the method signatures and their expected behavior\n",
    "#To create an interface class in Python, we can define an abstract base class with abstract methods using the abc module. Here's an example:\n",
    "#The role of interface classes in achieving abstraction is to provide a clear and concise way to define a contract for a class, specifying the methods that must be implemented and their expected behavior. This helps to ensure consistency and interoperability between different classes, making it easier to write modular and reusable code.\n",
    "#By using interface classes, we can achieve the following benefits:\n",
    "#Abstraction: Interface classes provide a way to abstract away implementation details, focusing only on the methods that a class must implement.\n",
    "#Consistency: Interface classes ensure that all classes that implement the interface have the same set of methods, making it easier to write code that works with different classes in a consistent way.\n",
    "#Interoperability: Interface classes make it easier to write code that can work with different classes that implement the same interface, making it easier to reuse and integrate code.\n",
    "#Polymorphism: Interface classes enable polymorphism, allowing us to write code that works with any class that implements the interface, without having to worry about the specific implementation details"
   ]
  },
  {
   "cell_type": "code",
   "execution_count": 258,
   "metadata": {},
   "outputs": [
    {
     "name": "stdout",
     "output_type": "stream",
     "text": [
      "Eating...\n",
      "Sleeping..\n",
      "Barking.\n",
      "Eating...\n",
      "Sleeping..\n",
      "Meowing..\n",
      "pecking\n",
      "Roasting..\n",
      "Squaking\n",
      "pecking\n",
      "Roasting..\n",
      "chrip..\n"
     ]
    }
   ],
   "source": [
    "#8. Create a Python class hierarchy for animals and implement abstraction by defining common methods (e.g., `eat()`, `sleep()`) in an abstract base class\n",
    "from abc import ABC,abstractmethod\n",
    "class animals(ABC):\n",
    "    @abstractmethod\n",
    "    def eat(self):\n",
    "        raise NotImplemented\n",
    "    @abstractmethod\n",
    "    def sleep(self):\n",
    "        raise NotImplemented\n",
    "    @abstractmethod\n",
    "    def sound(self):\n",
    "        raise NotImplemented\n",
    "class Mammal(animals):\n",
    "    def eat(self):\n",
    "        print(\"Eating...\")\n",
    "    def sleep(self):\n",
    "        print(\"Sleeping..\")\n",
    "    def sound(self):\n",
    "        print(\"Making sound\")\n",
    "class Bird(animals):\n",
    "    def eat(self):\n",
    "        print(\"pecking\")\n",
    "    def sleep(self):\n",
    "        print(\"Roasting..\")\n",
    "    def sound(self):\n",
    "        print(\"Chorirping\")\n",
    "class Dog(Mammal):\n",
    "    def sound(self):\n",
    "        print(\"Barking.\")\n",
    "class Cat(Mammal):\n",
    "    def sound(self):\n",
    "        print(\"Meowing..\")\n",
    "class Parrot(Bird):\n",
    "    def sound(self):\n",
    "        print(\"Squaking\")\n",
    "\n",
    "class Sparrow(Bird):\n",
    "    def sound(self):\n",
    "        print(\"chrip..\")\n",
    "dog = Dog()\n",
    "cat = Cat()\n",
    "parrot = Parrot()\n",
    "sparrow = Sparrow()\n",
    "\n",
    "\n",
    "dog.eat()\n",
    "dog.sleep()\n",
    "dog.sound()\n",
    "\n",
    "cat.eat()\n",
    "cat.sleep()\n",
    "cat.sound()\n",
    "\n",
    "parrot.eat()\n",
    "parrot.sleep()\n",
    "parrot.sound()\n",
    "\n",
    "sparrow.eat()\n",
    "sparrow.sleep()\n",
    "sparrow.sound()\n",
    "\n",
    "\n"
   ]
  },
  {
   "cell_type": "code",
   "execution_count": 259,
   "metadata": {},
   "outputs": [],
   "source": [
    "#9. Explain the significance of encapsulation in achieving abstraction. Provide examples\n",
    "#Encapsulation and abstraction are two fundamental concepts in object-oriented programming (OOP) that work together to create robust, modular, and maintainable software systems. In this explanation, we'll delve into the significance of encapsulation in achieving abstraction, along with some examples to illustrate the concept.\n",
    "#Encapsulation is the process of bundling data and the methods that operate on that data into a\n",
    "#single unit, called a class. This allows us to hide the implementation details of a class from\n",
    "#the outside world, while still exposing a well-defined interface for interacting with the class.\n",
    "#Abstraction, on the other hand, is the process of hiding the underlying implementation details of a\n",
    "#class and only exposing the essential features that are relevant to the user. By abstracting away the\n",
    "#implementation details, we can create a more flexible and reusable software system \n"
   ]
  },
  {
   "cell_type": "code",
   "execution_count": 260,
   "metadata": {},
   "outputs": [],
   "source": [
    "#10. What is the purpose of abstract methods, and how do they enforce abstraction in Python classes?\n",
    "#Abstract methods are methods that are declared in a base class but not implemented. They are used to\n",
    "#Significance of Encapsulation in Achieving Abstraction:\n",
    "#Data Hiding: Encapsulation allows us to hide the internal implementation details of an object from the outside world, making it difficult for other objects to access or modify them directly. This helps to reduce coupling between objects and improves the overall system's modularity.\n",
    "#Information Hiding: By encapsulating data and methods, we can control what information is exposed to the outside world. This helps to reduce complexity and improve the system's abstraction, as the internal implementation details are not visible to other objects.\n",
    "#Improved Code Organization: Encapsulation promotes better code organization by grouping related data and methods into a single unit. This makes it easier to understand and maintain the code, as the internal implementation details are self-contained.\n",
    "#Increased Flexibility: Encapsulation enables us to change the internal implementation of an object without affecting other objects that interact with it. This improves the system's flexibility and makes it easier to adapt to changing requirements.\n",
    "#EXAMPLE:-\n",
    "class Car:\n",
    "    def __init__(self,make,model,year) -> None:\n",
    "        self.__make = make\n",
    "        self.__model = model\n",
    "        self.__year = year\n",
    "        self.__speed = 0\n",
    "    def accelrate(self):\n",
    "        self.__speed +=10\n",
    "    def brak(self):\n",
    "        self.__speed -=10\n",
    "    def get_speed(self):\n",
    "        return self.__speed\n",
    "    def details(self):\n",
    "        print(f\"Make:{self.__make} Model:{self.__model} Year:{self.__year}\")"
   ]
  },
  {
   "cell_type": "code",
   "execution_count": 261,
   "metadata": {},
   "outputs": [],
   "source": [
    "#11. Create a Python class for a vehicle system and demonstrate abstraction by defining common methods (e.g., `start()`, `stop()`) in an abstract base class.\n",
    "from abc import ABC,abstractmethod\n",
    "class Vehical:\n",
    "    @abstractmethod\n",
    "    class start(ABC):\n",
    "        pass\n",
    "    @abstractmethod\n",
    "    class stop(ABC):\n",
    "        pass\n",
    "    class display_info(ABC):\n",
    "        pass\n",
    "class Car(Vehical):\n",
    "    def __init__(self,make,model,year) -> None:\n",
    "        self.__make = make\n",
    "        self.__model = model\n",
    "        self.__year = year\n",
    "        self.is_running = False\n",
    "    def start(self):\n",
    "        if not self.is_running:\n",
    "            print(f\"the car {self.__model} is srarting\")\n",
    "            self.is_running = True\n",
    "        else:\n",
    "            print(f\"the car {self.__model} is already running\")\n",
    "    \n",
    "    def stop(self):\n",
    "        if self.is_running:\n",
    "            print(f\"the car {self.__model} is stopping\")\n",
    "            self.is_running = False\n",
    "        else:\n",
    "            print(\"The car is already stopped\")\n",
    "    def display_info(self):\n",
    "        return {\n",
    "            \"make\":self.__make,\n",
    "            \"model\":self.__model,\n",
    "            \"year\":self.__year,\n",
    "            \"is_running\":self.is_running\n",
    "        }\n",
    "class Motercycle(Vehical):\n",
    "    def __init__(self,make,model,year) -> None:\n",
    "        self.__make = make\n",
    "        self.__year = year\n",
    "        self.__model = model\n",
    "    def start(self):\n",
    "        if not self.is_running:\n",
    "             print(f\"the motercycle {self.__model} is srarting\")\n",
    "        else:\n",
    "            print(f\"the motercycle {self.__model} is already running\")\n",
    "    def stop(self):\n",
    "     if self.is_running:\n",
    "         print(f\"the motercycle {self.__model} is stopping\")\n",
    "         self.is_running = False\n",
    "     else:\n",
    "         print(\"The car is already stopped\")\n",
    "    def display_info(self):\n",
    "     return {\n",
    "         \"make\":self.__make,\n",
    "         \"model\":self.__model,\n",
    "         \"year\":self.__year,\n",
    "         \"is_running\":self.is_running\n",
    "     }\n",
    "\n"
   ]
  },
  {
   "cell_type": "code",
   "execution_count": 262,
   "metadata": {},
   "outputs": [
    {
     "name": "stdout",
     "output_type": "stream",
     "text": [
      "10\n"
     ]
    }
   ],
   "source": [
    "#12. Describe the use of abstract properties in Python and how they can be employed in abstract classes\n",
    "#Abstract properties in Python are a way to define properties in an abstract base class (ABC) that must be implemented by any concrete subclass. They are used to specify a property that must be provided by any subclass, but the implementation details are left up to the subclass.\n",
    "#To define an abstract property, you use the @property decorator along with the @abstractmethod decorator.\n",
    "from abc import ABC,abstractmethod\n",
    "class AbstractClass(ABC):\n",
    "    @property\n",
    "    @abstractmethod\n",
    "    def my_property(self):\n",
    "        \"\"\"Abstarct propert\"\"\"\n",
    "        pass\n",
    "class Concreteclass(AbstractClass):\n",
    "    def __init__(self,value) -> None:\n",
    "        self.__value = value\n",
    "    def my_property(self):\n",
    "        return self.__value\n",
    "obj = Concreteclass(10)\n",
    "print(obj.my_property())"
   ]
  },
  {
   "cell_type": "code",
   "execution_count": 263,
   "metadata": {},
   "outputs": [],
   "source": [
    "#13. Create a Python class hierarchy for employees in a company (e.g., manager, developer, designer) and implement abstraction by defining a common `get_salary()` method.\n",
    "from abc import ABC,abstractmethod\n",
    "class Employe:\n",
    "    def __init__(self,salary,employ_id):\n",
    "        self.__employ_id = employ_id\n",
    "        self.__salary = salary\n",
    "    @abstractmethod\n",
    "    def get_salary(self):\n",
    "        pass\n",
    "    @abstractmethod\n",
    "    def get_details(self):\n",
    "        pass\n",
    "class Managers(Employe):\n",
    "    def __init__(self,salary,employ_id,bonus):\n",
    "        self.__employ_id = employ_id\n",
    "        self.__salary = salary\n",
    "        self.__bonus = bonus\n",
    "    def get_salary(self):\n",
    "        return self.__salary + self.__bonus\n",
    "    def get_detais(self):\n",
    "        return {\n",
    "            \"employ_id\":self.__employ_id,\n",
    "            \"salary\":self.__salary,\n",
    "            \"bonus\":self.__bonus\n",
    "\n",
    "        }\n",
    "class Devloper(Employe):\n",
    "    def __init__(self, salary, employ_id,hourly_rate,hourly_work):\n",
    "        super().__init__(salary, employ_id)\n",
    "        self.__hourly_work = hourly_work\n",
    "        self.__hourly_rate = hourly_rate\n",
    "    def get_salary(self):\n",
    "        return self.__salary + (self.__hourly_rate * self.__hourly_work)\n",
    "    def get_details(self):\n",
    "        return {\n",
    "            \"employ_id\": self.__employ_id,\n",
    "            \"salary\": self.__salary,\n",
    "        }"
   ]
  },
  {
   "cell_type": "code",
   "execution_count": 264,
   "metadata": {},
   "outputs": [],
   "source": [
    "#14. Discuss the differences between abstract classes and concrete classes in Python, including their \n",
    "#instantiation.\n",
    "#Abstract Classes:\n",
    "#An abstract class is a class that cannot be instantiated on its own and is intended to be inherited by other classes. It provides a way to define a blueprint for other classes to follow, without creating an instance of the abstract class itself.\n",
    "#Characteristics of abstract classes:\n",
    "#Cannot be instantiated: You cannot create an instance of an abstract class using the () operato\n",
    "#Must be inherited: Abstract classes are intended to be inherited by other classes, which must implement the abstract methods.\n",
    "#Abstract methods: Abstract classes can define abstract methods, which are methods declared without an implementation.\n",
    "#Abstract methods: Abstract classes can define abstract methods, which are methods declared without an implementation.\n",
    "#Cannot be used as a base class for multiple inheritance: Abstract classes cannot be used as a base class for multiple inheritance.\n",
    "from abc import ABC,abstractmethod\n",
    "class AbstractClass(ABC):\n",
    "    @abstractmethod\n",
    "    def do_somthing(self):\n",
    "        pass\n",
    "#Concrete Classes:\n",
    "#A concrete class is a class that can be instantiated on its own and provides a complete implementation of its methods.\n",
    "#Characteristics of concrete classes:\n",
    "#Can be instantiated: You can create an instance of a concrete class using the () operator.\n",
    "#Provides a complete implementation: Concrete classes provide a complete implementation of their methods.\n",
    "#Can be used as a base class for multiple inheritance: Concrete classes can be used as a base class for multiple inheritance.\n",
    "#class ConcreteClass:\n",
    "    def do_something(self):\n",
    "        print(\"Doing something!\")\n",
    "\n",
    "\n",
    "\n"
   ]
  },
  {
   "cell_type": "code",
   "execution_count": 265,
   "metadata": {},
   "outputs": [],
   "source": [
    "#15. Explain the concept of abstract data types (ADTs) and their role in achieving abstraction in Python\n",
    "#An Abstract Data Type (ADT) is a high-level description of a data type that defines how the data type can be manipulated, without specifying how the data type is implemented. In other words, an ADT defines the interface or contract that a data type must adhere to, without caring about the internal implementation details.\n",
    "#Key characteristics of ADTs:\n",
    "#Abstract: ADTs are abstract, meaning they don't specify how the data type is implemented.\n",
    "#High-level description: ADTs provide a high-level description of the data type, focusing on the operations that can be performed on the data type.\n",
    "#Interface-based: ADTs define an interface or contract that must be implemented by any concrete data type that claims to be an instance of the ADT.\n",
    "#Examples of ADTs:\n",
    "#Stack: A stack is an ADT that defines a Last-In-First-Out (LIFO) data structure, with operations like push, pop, and peek.\n",
    "#Queue: A queue is an ADT that defines a First-In-First-Out (FIFO) data structure, with operations like enqueue, dequeue, and peek.\n",
    "#Set: A set is an ADT that defines an unordered collection of unique elements, with operations like add, remove, and contains.\n",
    "#Decoupling implementation from interface: ADTs separate the interface (the operations that can be performed on the data type) from the implementation (how the data type is actually implemented). This decoupling allows for different implementations of the same ADT, without affecting the code that uses the ADT.\n",
    "#Encapsulation: ADTs encapsulate the internal implementation details of a data type, making it harder for external code to access or modify the internal state of the data type.\n",
    "#Polymorphism: ADTs enable polymorphism, as different implementations of the same ADT can be used interchangeably, without affecting the code that uses the ADT\n",
    "#example:\n",
    "class Stack:\n",
    "    def __init__(self) -> None:\n",
    "        self.items = []\n",
    "    def push(self,item):\n",
    "        self.items.append(item)\n",
    "    def pop(self):\n",
    "        self.items.pop()\n",
    "    def peek(self):\n",
    "        return self.items[-1]"
   ]
  },
  {
   "cell_type": "code",
   "execution_count": 266,
   "metadata": {},
   "outputs": [
    {
     "name": "stdout",
     "output_type": "stream",
     "text": [
      "Powering on pc...\n",
      "Shutting down pc...\n"
     ]
    }
   ],
   "source": [
    "#16. Create a Python class for a computer system, demonstrating abstraction by defining common methods (e.g., `power_on()`, `shutdown()`) in an abstract base class.\n",
    "from abc import ABC,abstractmethod\n",
    "class ComputerSystem(ABC):\n",
    "    def __init__(self,name) -> None:\n",
    "        self.__name = name\n",
    "        self.__is_powered_on = False\n",
    "    @abstractmethod\n",
    "    def power_on(self):\n",
    "        \"\"\"\n",
    "        Power on computer system\n",
    "        \"\"\"\n",
    "        pass\n",
    "    @abstractmethod\n",
    "    def shutdown(self):\n",
    "        \"\"\"Shut down the computer system\"\"\"\n",
    "        pass\n",
    "    def restart(self):\n",
    "        \"\"\"Restart the computer system\"\"\"\n",
    "        self.shutdown()\n",
    "        self.power_on()\n",
    "class DeskTopComputer(ComputerSystem):\n",
    "    def __init__(self, name) -> None:\n",
    "        self.__name = name\n",
    "\n",
    "    def power_on(self):\n",
    "        self.__is_powered_on = True\n",
    "        print(f\"Powering on {self.__name}...\")\n",
    "    def shutdown(self):\n",
    "        self.__is_powered_on = False\n",
    "        print(f\"Shutting down {self.__name}...\") \n",
    "class LaptopComputer(ComputerSystem):\n",
    "    def power_on(self):\n",
    "        self.__is_powered_on = True\n",
    "        print(f\"Powering on {self.__name}...\")\n",
    "    def shut_down(self):\n",
    "        self.__is_powered_on = False\n",
    "        print(f\"Shutting down {self.__name}...\") \n",
    "desktop = DeskTopComputer(\"pc\")\n",
    "desktop.power_on()\n",
    "desktop.shutdown()"
   ]
  },
  {
   "cell_type": "code",
   "execution_count": 267,
   "metadata": {},
   "outputs": [],
   "source": [
    "#17. Discuss the benefits of using abstraction in large-scale software development projects.\n",
    "#Abstraction is a fundamental concept in software development that plays a crucial role in large-scale software development projects. It involves representing complex systems in a simplified way by exposing only the necessary information while hiding the implementation details. The benefits of using abstraction in large-scale software development projects are numerous:\n",
    "#Modularity: Abstraction enables developers to break down a large system into smaller, independent modules that can be developed, tested, and maintained separately. This modular approach makes it easier to manage complexity and reduces the risk of cascading failures.\n",
    "#Improved Code Reusability: Abstracted code can be reused across different parts of the system, reducing code duplication and increasing development efficiency\n",
    "#Easier Maintenance: With abstraction, changes to the implementation details do not affect the interface, making it easier to maintain and update the system without introducing unintended consequences.\n",
    "#Faster Development: Abstraction enables developers to focus on the interface and behavior of a module without worrying about the implementation details, allowing for faster development and prototyping.\n",
    "#Better Encapsulation: Abstraction helps to encapsulate data and behavior, reducing coupling between modules and making it easier to modify or replace individual components without affecting the entire system.\n",
    "#Improved Scalability: Abstracted systems can scale more easily, as new modules can be added or removed without affecting the overall architecture.\n",
    "#Enhanced Flexibility: Abstraction enables developers to switch between different implementations or technologies without affecting the interface, providing greater flexibility and adaptability.\n",
    "#Reduced Coupling: Abstraction reduces coupling between modules, making it easier to modify or replace individual components without introducing unintended consequences\n",
    "#Improved Testability: Abstracted systems are easier to test, as the interface can be tested independently of the implementation details.\n",
    "#Better Communication: Abstraction facilitates better communication among team members, as the interface and behavior of a module are clearly defined, reducing misunderstandings and miscommunications.\n",
    "#Improved Security: Abstraction can help improve security by hiding sensitive information and reducing the attack surface.\n",
    "#Reduced Complexity: Abstraction simplifies complex systems, making it easier for developers to understand and work with the system.\n",
    "#Improved Code Quality: Abstraction promotes better code quality, as developers are forced to think about the interface and behavior of a module, leading to more robust and maintainable code.\n",
    "#Faster Onboarding: Abstraction makes it easier for new team members to onboard, as the interface and behavior of a module are clearly defined, reducing the learning curve.\n",
    "#Improved Collaboration: Abstraction enables better collaboration among team members, as developers can work on different modules independently without affecting the overall system.\n"
   ]
  },
  {
   "cell_type": "code",
   "execution_count": 268,
   "metadata": {},
   "outputs": [],
   "source": [
    "#18. Explain how abstraction enhances code reusability and modularity in Python programs\n",
    "#Abstraction is a fundamental concept in object-oriented programming (OOP) that enables developers to write more modular, reusable, and maintainable code. In Python, abstraction plays a crucial role in enhancing code reusability and modularity\n",
    "#Abstraction is a proceess of exposing only neccesary information to the outside world while hiding the implrmentation details in other words abstraction help us to define the interface or a contract that specifices how to intract with an object without ravealing \n",
    "#How Abstraction Enhances Code Reusability:\n",
    "#Encapsulation: Abstraction enables encapsulation, which means bundling data and methods that operate on that data within a single unit (e.g., a class). This makes it easier to reuse code by minimizing dependencies and reducing the risk of data corruption.\n",
    "#Modularization: Abstraction promotes modularization by breaking down a large program into smaller, independent modules. Each module can be developed, tested, and maintained independently, making it easier to reuse code across different projects.\n",
    "#Polymorphism: Abstraction enables polymorphism, which allows objects of different classes to be treated as objects of a common superclass. This enables code reuse by writing functions or methods that can work with objects of different classes.\n",
    "#Higher-Level Abstractions: Abstraction enables the creation of higher-level abstractions, which can be composed of lower-level abstractions. This facilitates code reuse by providing a more abstract and reusable interface.\n",
    "#How Abstraction Enhances Modularity:\n",
    "#Decoupling: Abstraction helps to decouple dependent components, making it easier to modify or replace one component without affecting others.\n",
    "#Interface-Based Design: Abstraction promotes interface-based design, where components interact with each other through well-defined interfaces. This makes it easier to swap out implementations without affecting the overall system.\n",
    "#Testability: Abstraction makes it easier to write unit tests, as each module can be tested independently without affecting other modules.\n",
    "#Flexibility: Abstraction provides flexibility by allowing developers to change the implementation of a module without affecting other modules that depend on it.\n"
   ]
  },
  {
   "cell_type": "code",
   "execution_count": 269,
   "metadata": {},
   "outputs": [],
   "source": [
    "#19. Create a Python class for a library system, implementing abstraction by defining common methods (e.g., `add_book()`, `borrow_book()`) in an abstract base class.\n",
    "from abc import ABC,abstractmethod\n",
    "class Librery_Team(ABC):\n",
    "    def __init__(self,title,authur) -> None:\n",
    "        self.__title = title\n",
    "        self.__authur = authur\n",
    "        self.is_available = True\n",
    "    @abstractmethod\n",
    "    def add(self):\n",
    "        pass\n",
    "    @abstractmethod\n",
    "    def borrow(self):\n",
    "        pass\n",
    "    @abstractmethod\n",
    "    def return_item(self):\n",
    "        pass\n",
    "class Book(Librery_Team):\n",
    "    def __init__(self, title, authur,isbn) -> None:\n",
    "        super().__init__(title, authur)\n",
    "        self.___isbn = isbn\n",
    "        \n",
    "    def add(self):\n",
    "        print(\"Book added succcefuly \")\n",
    "    def borrow(self):\n",
    "        if self.is_available:\n",
    "            self.is_available = False\n",
    "            print(f\"Book borrowed {self.__title}\")\n",
    "        else:\n",
    "            print(\"Book is not available\")\n",
    "    def return_item(self):\n",
    "        if not self.is_available:\n",
    "            self.is_available = True\n",
    "            print(f\"Book returned {self.__title}\")\n",
    "        else:\n",
    "            print(\"Book is already available\")\n",
    "    \n",
    "class DVD(Librery_Team):\n",
    "    def __init__(self, title, authur,year) -> None:\n",
    "        self.__title = title\n",
    "        self.__author = authur\n",
    "        self.__year = year\n",
    "    def add(self):\n",
    "        print(f\"Added DVD '{self.__title}' by {self.__author} released in {self.__year}\")\n",
    "    def borrow(self):\n",
    "        if self.is_available:\n",
    "            self.is_available = False\n",
    "            print(f\"Book borrowed {self.__title} and publish year{self.__year}\")\n",
    "        else:\n",
    "            print(\"Book is not available\")\n",
    "    def return_item(self):\n",
    "        if not self.is_available:\n",
    "            self.is_available = True\n",
    "            print(f\"Book returned {self.__title} and publish year{self.__year}\")\n",
    "        else:\n",
    "            print(\"Book is already available\")\n",
    "class Librery:\n",
    "    def __init__(self) -> None:\n",
    "        self.__books = []\n",
    "    def add_item(self,item):\n",
    "        self.__books.append(item)\n",
    "        item.add()\n",
    "    def borrow_item(self,title):\n",
    "        for book in self.__books:\n",
    "            if book.title == title:\n",
    "                book.borrow()\n",
    "                return\n",
    "        print(f\"No item with title '{title}' found in the library\")"
   ]
  },
  {
   "cell_type": "code",
   "execution_count": 270,
   "metadata": {},
   "outputs": [],
   "source": [
    "#20. Describe the concept of method abstraction in Python and how it relates to polymorphism\n",
    "#Method abstraction in Python is a fundamental concept in object-oriented programming (OOP) that allows developers to define an interface or a blueprint for a method without implementing its details. In other words, method abstraction provides a way to declare a method without specifying how it will be implemented.\n",
    "#In Python, method abstraction is achieved through the use of abstract methods, which are methods declared in an abstract class (a class that cannot be instantiated) without an implementation. An abstract method is a method that has a declaration but does not have an implementation.\n",
    "#Polymorphism is the ability of an object to take on multiple forms. In the context of method abstraction, polymorphism allows objects of different classes to respond to the same method call, even if the method is abstract\n",
    "# method abstraction in Python provides a way to define an interface or blueprint for a method without implementing its details, while polymorphism allows objects of different classes to respond to the same method call. Together, they enable developers to write more flexible, reusable, and maintainable code.\n",
    "#method abstraction in Python provides a way to define an interface or blueprint for a method without implementing its details, while polymorphism allows objects of different classes to respond to the same method call. Together, they enable developers to write more flexible, reusable, and maintainable code.\n",
    " "
   ]
  },
  {
   "cell_type": "markdown",
   "metadata": {},
   "source": [
    "### Composition:"
   ]
  },
  {
   "cell_type": "code",
   "execution_count": 271,
   "metadata": {},
   "outputs": [],
   "source": [
    "# Explain the concept of composition in Python and how it is used to build complex objects from simpler ones\n",
    "#Composition is a fundamental concept in object-oriented programming (OOP) that allows developers to build complex objects from simpler ones. In Python, composition is a way to create objects from other objects or collections of objects, enabling the creation of complex data structures and behaviors\n",
    "#Composition is a relationship between objects where one object (the container) owns or manages a collection of other objects or values. The contained objects are not complete without the container, and the container is responsible for the lifetime of the contained objects.\n",
    "#In Python, composition is achieved through the use of attributes, which are variables that are defined inside a class. An attribute can be an object, a list, a dictionary, or any other type of data structure.\n",
    "#EX:-\n",
    "class Engine:\n",
    "    def __init__(self, horsepower):\n",
    "        self.horsepower = horsepower\n",
    "\n",
    "class Wheel:\n",
    "    def __init__(self, size):\n",
    "        self.size = size\n",
    "\n",
    "class Car:\n",
    "    def __init__(self, engine, wheels):\n",
    "        self.engine = engine\n",
    "        self.wheels = wheels\n",
    "\n",
    "    def description(self):\n",
    "        return f\"Car with {self.engine.horsepower} horsepower engine and {len(self.wheels)} wheels of size {self.wheels[0].size}\"\n",
    "engine = Engine(200)\n",
    "wheel1 = Wheel(17)\n",
    "wheel2 = Wheel(17)\n",
    "wheel3 = Wheel(17)\n",
    "wheel4 = Wheel(17)\n",
    "wheels = [wheel1,wheel2,wheel3,wheel4]\n",
    "car = Car(engine,wheels)\n",
    "#Composition is used to build complex objects from simpler ones in several ways:\n",
    "#Part-whole relationships: Composition is used to model part-whole relationships, where a complex object is composed of smaller, independent objects.\n",
    "#Container-contained relationships: Composition is used to model container-contained relationships, where a container object owns or manages a collection of contained objects.\n",
    "#Hierarchical relationships: Composition is used to model hierarchical relationships, where a complex object is composed of smaller objects, which are themselves composed of even smaller objects.\n",
    "#Modularity: Composition enables developers to break down complex objects into smaller, independent modules, making it easier to develop, test, and maintain the code.\n",
    "#Reusability: Composition enables developers to reuse code by creating objects that can be composed together in different ways.\n",
    "#Flexibility: Composition enables developers to create complex objects with varying structures and behaviors, making it easier to adapt to changing requirements."
   ]
  },
  {
   "cell_type": "code",
   "execution_count": 272,
   "metadata": {},
   "outputs": [],
   "source": [
    "#2.. Describe the difference between composition and inheritance in object-oriented programming\n",
    "#There are few diffrence in this both\n",
    "#Ownership: In composition, the container object owns the contained objects. In inheritance, the subclass does not own the superclass.\n",
    "#Lifetime: In composition, the container object is responsible for the lifetime of the contained objects. In inheritance, the subclass has its own lifetime, separate from the superclass.\n",
    "#Relationship: Composition is a \"has-a\" relationship, where the container object has one or more contained objects. Inheritance is an \"is-a\" relationship, where the subclass is a specialized version of the superclass.\n",
    "\n"
   ]
  },
  {
   "cell_type": "code",
   "execution_count": 273,
   "metadata": {},
   "outputs": [
    {
     "name": "stdout",
     "output_type": "stream",
     "text": [
      "harry_potter by J.K. (1997)\n"
     ]
    }
   ],
   "source": [
    "#3. Create a Python class called `Author` with attributes for name and birthdate. Then, create a `Book` class \n",
    "#that contains an instance of `Author` as a composition. Provide an example of creating a `Book` object.\n",
    "class Author:\n",
    "    def __init__(self, name, birthdate):\n",
    "        self.name = name\n",
    "        self.birthdate = birthdate\n",
    "    def __str__(self):\n",
    "        return f\"{self.name} (Born:- {self.birthday})\"\n",
    "class Book:\n",
    "    def __init__(self, author, title, year):\n",
    "        self.author = author\n",
    "        self.title = title\n",
    "        self.year = year\n",
    "    def __str__(self):\n",
    "        return f\"{self.title} by {self.author.name} ({self.year})\"\n",
    "\n",
    "a = Author(\"J.K.\",\"1956-07-31\")\n",
    "b = Book(title=\"harry_potter\",author=a,year=1997)\n",
    "print(b)"
   ]
  },
  {
   "cell_type": "code",
   "execution_count": 274,
   "metadata": {},
   "outputs": [],
   "source": [
    "#4. Discuss the benefits of using composition over inheritance in Python, especially in terms of code flexibility \n",
    "#and reusabilit\n",
    "#In Python, composition and inheritance are two fundamental concepts in object-oriented programming (OOP). While both concepts allow for code reuse and modularity, composition offers more flexibility and reusability benefits compared to inheritance. Here are the benefits of using composition over inheritance in Python:\n",
    "#1. Loose Coupling\n",
    "#Composition promotes loose coupling between objects, which means that the dependent objects are not tightly bound to each other. This makes it easier to change or replace one object without affecting the other. In contrast, inheritance creates a tight coupling between the parent and child classes, making it harder to modify one without impacting the other.\n",
    "#2.increaswd Flexiablity:-\n",
    "#Composition allows for more flexibility in designing objects and their relationships. You can create objects with multiple, independent components, each with its own behavior and attributes. This flexibility enables you to model complex systems more accurately. Inheritance, on the other hand, is more rigid, as the child class is tightly bound to the parent class\n",
    "#3. Easier Testing\n",
    "#Composition makes it easier to test objects in isolation, as each component can be tested independently. This is particularly useful when testing complex systems with multiple dependencies. Inheritance, however, can make testing more challenging, as the child class is tightly coupled to the parent class.\n",
    "#4. Better Code Reusability\n",
    "#Composition enables better code reusability, as components can be reused across multiple objects and systems. This is because components are designed to be self-contained and independent, making them more modular and reusable. Inheritance, while allowing for some code reuse, can lead to a rigid class hierarchy, making it harder to reuse code in different contexts.\n",
    "#5. Reduced Fragility\n",
    "#Composition reduces the fragility of code, as changes to one component do not have a ripple effect on other components. This is because each component is designed to be independent and self-contained. Inheritance, on the other hand, can lead to a fragile codebase, where changes to the parent class can break the child class.\n",
    "#6. Improved Readability\n",
    "#Composition can lead to more readable code, as the relationships between objects are more explicit and easier to understand. Inheritance, while providing a clear hierarchy, can make it harder to understand the relationships between classes, especially in complex systems.\n"
   ]
  },
  {
   "cell_type": "code",
   "execution_count": 275,
   "metadata": {},
   "outputs": [
    {
     "name": "stdout",
     "output_type": "stream",
     "text": [
      "CS\n",
      "M-M\n",
      "k\n",
      "k is Teahing in CS \n"
     ]
    }
   ],
   "source": [
    "#5. How can you implement composition in Python classes? Provide examples of using composition to create \n",
    "#complex objects.\n",
    "#Composition is a fundamental concept in object-oriented programming (OOP) that allows you to create complex objects from simpler ones. In Python, you can implement composition by defining a class that contains one or more objects of other classes.\n",
    "class Professor:\n",
    "    def __init__(self, name, department):\n",
    "        self.name = name\n",
    "        self.department = department\n",
    "    def teach(self):\n",
    "        print(f\"{self.name} is Teahing in {self.department} \")\n",
    "class Department:\n",
    "    def __init__(self,name,professors):\n",
    "        self.name = name\n",
    "        self.professors = professors\n",
    "    def list_professers(self):\n",
    "        for professor in self.professors:\n",
    "            print(professor.name)\n",
    "class University:\n",
    "    def __init__(self,name,department):\n",
    "        self.name = name\n",
    "        self.department = department\n",
    "    def list_department(self):\n",
    "        for department in self.department:\n",
    "            print(department.name)\n",
    "proffeser1 = Professor(\"k\",\"CS\")\n",
    "professor2 = Professor(\"l\",\"M-M\")\n",
    "department1 = Department(\"CS\",[proffeser1])\n",
    "department2 = Department(\"M-M\",[professor2])\n",
    "university = University(\"Harverd\",[department1,department2])\n",
    "university.list_department()\n",
    "department1.list_professers()\n",
    "proffeser1.teach()"
   ]
  },
  {
   "cell_type": "code",
   "execution_count": 276,
   "metadata": {},
   "outputs": [
    {
     "name": "stdout",
     "output_type": "stream",
     "text": [
      "Playing Playlist R -L\n",
      "Playing Song Cradles\n",
      "Playing Song Love-Story\n",
      "Music Player\n",
      "Playlist Name:-R -L\n",
      "Title :-Cradles artist:- Sub-Urban Duration:-3.53 Minutes\n",
      "Title :-Love-Story artist:- Indila Duration:-4.38 Minutes\n"
     ]
    }
   ],
   "source": [
    "#6. Create a Python class hierarchy for a music player system, using composition to represent playlists and \n",
    "#songs.\n",
    "class Song:\n",
    "    def __init__(self,title,artist,duration) -> None:\n",
    "        self.title = title \n",
    "        self.artist = artist\n",
    "        self.duration = duration\n",
    "    def __str__(self):\n",
    "        return f\"Title :-{self.title} artist:- {self.artist} Duration:-{self.duration} Minutes\"\n",
    "class Playlist:\n",
    "    def __init__(self,name) -> None:\n",
    "        self.name = name\n",
    "        self.songs = []\n",
    "    def add_song(self,song):\n",
    "        self.songs.append(song)\n",
    "    def remove_song(self,song):\n",
    "        self.songs.remove(song)\n",
    "    def __str__(self):\n",
    "        return f\"Playlist Name:-{self.name}\\n\" + \"\\n\".join(str(song) for song in self.songs)\n",
    "class Music_Player:\n",
    "    def __init__(self,name) -> None:\n",
    "        self.name = name\n",
    "        self.playlist = []\n",
    "    def create_playlist(self,name):\n",
    "        playlist = Playlist(name)\n",
    "        self.playlist.append(playlist)\n",
    "        return playlist\n",
    "    def play_playlist(self,playlist):\n",
    "        print(f\"Playing Playlist {playlist.name}\")\n",
    "        for song in playlist.songs:\n",
    "            print(f\"Playing Song {song.title}\")\n",
    "    def __str__(self):\n",
    "        return f\"Music Player\\n\" + \"\\n\".join(str(playlist) for playlist in self.playlist)\n",
    "    \n",
    "if __name__ == \"__main__\":\n",
    "    music_player = Music_Player(\"\")\n",
    "\n",
    "    playlist = music_player.create_playlist(\"R -L\")\n",
    "\n",
    "    # Add songs to the playlist\n",
    "    song1 = Song(\"Cradles\", \"Sub-Urban\", 3.53)\n",
    "    song2 = Song(\"Love-Story\", \"Indila\", 4.38)\n",
    "    playlist.add_song(song1)\n",
    "    playlist.add_song(song2)\n",
    "\n",
    "    # Play the playlist\n",
    "    music_player.play_playlist(playlist)\n",
    "\n",
    "    # Print the music player state\n",
    "    print(music_player)\n",
    " "
   ]
  },
  {
   "cell_type": "code",
   "execution_count": 277,
   "metadata": {},
   "outputs": [],
   "source": [
    "#7. Explain the concept of \"has-a\" relationships in composition and how it helps design software systems\n",
    "#In object-oriented programming (OOP), composition is a fundamental concept that allows us to create complex objects from simpler ones. At its core, composition is about representing a \"whole-part\" or \"container-contained\" relationship between objects. This is where the \"has-a\" relationship comes into play.\n",
    "#A \"has-a\" relationship is a type of composition where one object (the container) owns or manages a collection of other objects (the contained). The contained objects are not complete without the container, and the container is responsible for the lifetime of the contained objects.\n",
    "#Benefits of \"Has-a\" Relationships\n",
    "#\"Has-a\" relationships help design software systems in several ways:\n",
    "#Encapsulation: By containing objects within other objects, we can encapsulate complex behavior and data, making it easier to manage and maintain.\n",
    "#Code Reusability: Composition allows us to create new objects from existing ones, promoting code reusability and reducing duplication.\n",
    "#Improved Readability: \"Has-a\" relationships make it clear how objects are related, improving the readability and understandability of our code.\n",
    "#Easier Testing: With composition, we can test individual components independently, making it easier to identify and fix issues.\n"
   ]
  },
  {
   "cell_type": "code",
   "execution_count": 278,
   "metadata": {},
   "outputs": [
    {
     "name": "stdout",
     "output_type": "stream",
     "text": [
      "CPU:- 3.2 CPU @ i5 GHz\n",
      "RAM:-16 GB RAM\n",
      "Storage Devices:\n",
      "HDD 1000 GB\n",
      "SSD 512 GB\n",
      "\n"
     ]
    }
   ],
   "source": [
    "#. Create a Python class for a computer system, using composition to represent components like CPU, RAM, \n",
    "#and storage devices.\n",
    "class Ram:\n",
    "    def __init__(r,ram_size):\n",
    "        r.__ram = ram_size\n",
    "    def __str__(r) -> str:\n",
    "        return f\"{r.__ram} GB RAM\"\n",
    "class CPU:\n",
    "    def __init__(r,speed,model) -> None:\n",
    "        r.__speed = speed\n",
    "        r.__model = model\n",
    "    def __str__(r) -> str:\n",
    "        return f\"{r.__speed} CPU @ {r.__model } GHz\"\n",
    "class Storage:\n",
    "    def __init__(r,type,capacity) -> None:\n",
    "        r.__type = type\n",
    "        r.__capacity = capacity\n",
    "    def __str__(self) -> str:\n",
    "        return f\"{self.__type} {self.__capacity} GB\"\n",
    "class Computer:\n",
    "    def __init__(r,cpu,ram,storage):\n",
    "        r.__cpu = cpu\n",
    "        r.__ram = ram\n",
    "        r.__storage = storage\n",
    "    def __str__(r) -> str:\n",
    "        system_info = f\"CPU:- {r.__cpu}\\n\"\n",
    "        system_info += f\"RAM:-{r.__ram}\\n\"\n",
    "        system_info += f\"Storage Devices:\\n\"\n",
    "        for device in r.__storage:\n",
    "            system_info += f\"{device}\\n\"\n",
    "        return system_info\n",
    "if __name__ == \"__main__\":\n",
    "    cpu = CPU(3.2,\"i5\")\n",
    "    ram = Ram(16)\n",
    "    storage = [Storage(\"HDD\",1000),Storage(\"SSD\",512)]\n",
    "    Computer_System = Computer(cpu,ram,storage)\n",
    "    print(Computer_System)\n",
    "    "
   ]
  },
  {
   "cell_type": "code",
   "execution_count": 279,
   "metadata": {},
   "outputs": [],
   "source": [
    "#9. Describe the concept of \"delegation\" in composition and how it simplifies the design of complex systems.\n",
    "#Delegation simplifies the design of complex systems in several ways:\n",
    "#Separation of Concerns: Delegation allows each object to focus on its specific responsibilities, making it easier to maintain and modify the system.\n",
    "#Reduced Coupling: By delegating tasks to other objects, the delegator object is decoupled from the implementation details of those tasks, making it easier to change or replace the delegate object without affecting the rest of the system.\n",
    "#Increased Flexibility: Delegation makes it easier to add new features or behaviors to a system by simply adding new delegate objects or modifying existing ones\n",
    "#Benefits of Delegation\n",
    "#Delegation provides several benefits, including:\n",
    "\n",
    "#Simplified system design\n",
    "#Reduced coupling between objects\n",
    "#Increased flexibility and maintainability\n",
    "#Easier testing and debugging\n"
   ]
  },
  {
   "cell_type": "code",
   "execution_count": 280,
   "metadata": {},
   "outputs": [],
   "source": [
    "#10. Create a Python class for a car, using composition to represent components like the engine, wheels, and \n",
    "#transmission\n",
    "class Engine:\n",
    "    def __init__(self,horsepower,cylinder) -> None:\n",
    "        self.hp = horsepower\n",
    "        self.cylinder = cylinder\n",
    "    def start(self):\n",
    "        print(\"Engine started\")\n",
    "    def stopped(self):\n",
    "        print(\"Engine Stopped\")\n",
    "class Wheel:\n",
    "    def __init__(self,size) -> None:\n",
    "        self.size =  size\n",
    "    def rotat(self):\n",
    "        print(\"Wheel rotating\")\n",
    "class Transmission:\n",
    "    def __init__(self,gears):\n",
    "        self.gears = gears\n",
    "    def shift(self,gear):\n",
    "        print(f\"Gear shifted to {gear}\")\n",
    "class Car():\n",
    "    def __init__(self,make,model, engine, wheels, transmission):\n",
    "        self.make = make\n",
    "        self.model = model\n",
    "        self.engine = engine\n",
    "        self.wheels = wheels\n",
    "        self.transmission = transmission\n",
    "    def start_engine(self):\n",
    "        self.engine.start()\n",
    "    def accelerate(self,):\n",
    "        self.transmission.shift(1)\n",
    "        for wheel in self.wheels:\n",
    "            wheel.rotat()\n",
    "    def Break(self):\n",
    "        self.transmission.shift(0)\n",
    "        for wheel in self.wheels:\n",
    "            print(\"Wheel Stoped\")\n",
    "    def __str__(self):\n",
    "        return f\"Make By:{self.make} Model_Name:{self.model} Engine:{self.engine.hp} HP Engine\"\n",
    "engine=Engine(720,4)\n",
    "wheels = [Wheel(17)for _ in range(4)]\n",
    "tra = Transmission(5)\n",
    "car = Car(\"Meclearn\",\"SpeedTail\",engine,wheels,tra)\n"
   ]
  },
  {
   "cell_type": "code",
   "execution_count": 281,
   "metadata": {},
   "outputs": [],
   "source": [
    "#11. How can you encapsulate and hide the details of composed objects in Python classes to maintain \n",
    "#abstraction?\n",
    "#Private Attributes: Use a single underscore (_) or double underscore (__) to denote private attributes, which should not be accessed directly from outside the class.\n",
    "\n",
    "#Getter and Setter Methods: Implement getter and setter methods to control access to private attributes, ensuring that the internal state of the object is not modified accidentally.\n",
    "\n",
    "#Composition: Use composition to hide the details of composed objects, making it difficult for external code to access or modify them directly.\n",
    "\n",
    "#Abstract Base Classes (ABCs): Use ABCs to define an abstract interface for a class, hiding the implementation details of the composed objects.\n",
    "\n",
    "#Encapsulation through Delegation: Use delegation to encapsulate the behavior of composed objects, making it difficult for external code to access or modify them directly.\n"
   ]
  },
  {
   "cell_type": "code",
   "execution_count": 282,
   "metadata": {},
   "outputs": [
    {
     "name": "stdout",
     "output_type": "stream",
     "text": [
      "CS101:Introduction to Computer Science\n",
      "Students: \n",
      "Student Name: n \n",
      "Student ID: B19ME029\n",
      "Student Name: w \n",
      "Student ID: B19ME030\n",
      "Course_matarial:\n",
      "Course Title: Python Programming \n",
      "Course Mentor: who\n",
      "Course Title: Data Structures and Algorithms \n",
      "Course Mentor: when\n",
      "Instructors:\n",
      "Instructor Name: who \n",
      "Instructor ID: 485\n",
      "Instructor Name: When \n",
      "Instructor ID: 848\n"
     ]
    }
   ],
   "source": [
    "#12. Create a Python class for a university course, using composition to represent students, instructors, and \n",
    "#course materials\n",
    "class Students:\n",
    "    def __init__(self,name,student_id) -> None:\n",
    "        self.name = name\n",
    "        self.student_id = student_id\n",
    "    def __str__(self):\n",
    "        return f\"Student Name: {self.name} \\nStudent ID: {self.student_id}\"\n",
    "class Instructor:\n",
    "    def __init__(self,name,instructor_id) -> None:\n",
    "        self.name=name\n",
    "        self.instructor_id = instructor_id\n",
    "    def __str__(self):\n",
    "        return f\"Instructor Name: {self.name} \\nInstructor ID: {self.instructor_id}\"\n",
    "class CourseMaterial:\n",
    "    def __init__(self,title,mentor) -> None:\n",
    "        self.title = title\n",
    "        self.mentor = mentor\n",
    "    def __str__(self):\n",
    "        return f\"Course Title: {self.title} \\nCourse Mentor: {self.mentor}\"\n",
    "class UniversityCourse:\n",
    "    def __init__(self,course_code,course_name) -> None:\n",
    "        self.course_code = course_code\n",
    "        self.course_name = course_name\n",
    "        self.students = []\n",
    "        self.instructors = []\n",
    "        self.course_matarial = []\n",
    "    def add_student(self,student):\n",
    "        self.students.append(student)\n",
    "    def add_instructor(self,instructor):\n",
    "        self.instructors.append(instructor)\n",
    "    def add_course_matarial(self,course_matarial):\n",
    "        self.course_matarial.append(course_matarial)\n",
    "    def __str__(self) -> str:\n",
    "        course_info = f\"{self.course_code}:{self.course_name}\\n\"\n",
    "        student_info = f\"Students: \\n\" + \"\\n\".join([str(student) for student in self.students]) + \"\\n\"\n",
    "        CourseMaterial_info = f\"Course_matarial:\\n\" + \"\\n\".join([str(cm) for cm in self.course_matarial])+ \"\\n\"\n",
    "        Instructors_info = f\"Instructors:\\n\" + \"\\n\".join([str(inst) for inst in self.instructors])\n",
    "        return course_info + student_info + CourseMaterial_info + Instructors_info\n",
    "    \n",
    "student1 = Students(\"n\",\"B19ME029\")\n",
    "student2 = Students(\"w\",\"B19ME030\")\n",
    "inst1= Instructor(\"who\",\"485\")\n",
    "inst2 = Instructor(\"When\",\"848\")\n",
    "course_material1 = CourseMaterial(\"Python Programming\", \"who\")\n",
    "course_material2 = CourseMaterial(\"Data Structures and Algorithms\", \"when\")\n",
    "course = UniversityCourse(\"CS101\", \"Introduction to Computer Science\")\n",
    "course.add_student(student1)\n",
    "course.add_student(student2)\n",
    "course.add_instructor(inst1)\n",
    "course.add_instructor(inst2)\n",
    "course.add_course_matarial(course_material1)\n",
    "course.add_course_matarial(course_material2)\n",
    "print(course)"
   ]
  },
  {
   "cell_type": "code",
   "execution_count": 283,
   "metadata": {},
   "outputs": [
    {
     "name": "stdout",
     "output_type": "stream",
     "text": [
      "Not enough oil\n"
     ]
    }
   ],
   "source": [
    "#13. Discuss the challenges and drawbacks of composition, such as increased complexity and potential for \n",
    "#tight coupling between objects\n",
    "#While composition is a powerful tool for building complex objects from simpler ones, it also presents several challenges and drawbacks. Two of the main concerns are increased complexity and the potential for tight coupling between objects.\n",
    "#As the number of composed objects grows, the overall complexity of the system increases. This can lead to:\n",
    "#Difficulty in understanding and debugging: With many objects interacting with each other, it can be challenging to comprehend the flow of the program and identify the source of errors.\n",
    "#Increased maintenance costs: As the system evolves, changes to one object can have ripple effects on other objects, making maintenance more time-consuming and costly\n",
    "#Composition can sometimes lead to tight coupling between objects, where one object is heavily dependent on another object's implementation details. This can result in:\n",
    "#Fragile code: Changes to one object can break other objects that depend on it, leading to a fragile codebase.\n",
    "#Limited flexibility: Tight coupling can make it difficult to swap out or replace objects without affecting other parts of the system\n",
    "#To minimize the drawbacks of composition:\n",
    "#Use interfaces and abstract classes: Define interfaces and abstract classes to decouple objects from each other's implementation details.\n",
    "#Favor loose coupling: Design objects to be independent and interchangeable, reducing the impact of changes to one object on other objects.\n",
    "#Use dependency injection: Instead of hardcoding dependencies, use dependency injection to provide objects with their dependencies, making it easier to swap out or replace objects.\n",
    "# Tight coupling between objects\n",
    "class Engine:\n",
    "    def __init__(self):\n",
    "        self.oil_level = 0\n",
    "\n",
    "    def start(self):\n",
    "        if self.oil_level < 5:\n",
    "            raise Exception(\"Not enough oil\")\n",
    "\n",
    "class Car:\n",
    "    def __init__(self):\n",
    "        self.engine = Engine()\n",
    "\n",
    "    def start_engine(self):\n",
    "        self.engine.start()\n",
    "\n",
    "# The Car class is tightly coupled to the Engine class\n",
    "# Changes to the Engine class can break the Car class\n",
    "\n",
    "car = Car()\n",
    "engine = Engine()\n",
    "try:\n",
    "    car.start_engine()\n",
    "except Exception as e:\n",
    "    print(e)\n",
    "#-----------------------------------------------------------------------------------------------\n",
    "# Loose coupling using interfaces and dependency injection\n",
    "from abc import ABC, abstractmethod\n",
    "\n",
    "class EngineInterface(ABC):\n",
    "    @abstractmethod\n",
    "    def start(self):\n",
    "        pass\n",
    "\n",
    "class Engine(EngineInterface):\n",
    "    def __init__(self):\n",
    "        self.oil_level = 0\n",
    "\n",
    "    def start(self):\n",
    "        if self.oil_level < 5:\n",
    "            raise Exception(\"Not enough oil\")\n",
    "\n",
    "class Car:\n",
    "    def __init__(self, engine: EngineInterface):\n",
    "        self.engine = engine\n",
    "\n",
    "    def start_engine(self):\n",
    "        self.engine.start()\n",
    "\n",
    "# The Car class is now loosely coupled to the Engine class\n",
    "# Changes to the Engine class will not break the Car class\n",
    "engine = Engine()\n",
    "engine.oil_level = 10\n",
    "car = Car(engine)\n",
    "car.start_engine()"
   ]
  },
  {
   "cell_type": "code",
   "execution_count": 284,
   "metadata": {},
   "outputs": [
    {
     "name": "stdout",
     "output_type": "stream",
     "text": [
      "Total Price of Tasty Bites: $ 30.87\n"
     ]
    }
   ],
   "source": [
    "#14. Create a Python class hierarchy for a restaurant system, using composition to represent menus, dishes, \n",
    "#and ingredients.\n",
    "class Ingridents:\n",
    "    def __init__(self,name,quanity,unit_price) -> None:\n",
    "        self.__name = name\n",
    "        self.__quantity = quanity\n",
    "        self.__unit_price = unit_price\n",
    "    def get_total_price(self):\n",
    "        return self.__quantity * self.__unit_price\n",
    "#Here The Class of Dish\n",
    "class Dish:\n",
    "    def __init__(self,name,description) -> None:\n",
    "        self.__name=name\n",
    "        self.__description = description\n",
    "        self.__ingredinat = []\n",
    "    def add_ingrediant(self,ingrediant):\n",
    "        self.__ingredinat.append(ingrediant)\n",
    "    def get_total_price(self):\n",
    "        return sum(ingrident.get_total_price() for ingrident in self.__ingredinat )\n",
    "    def get_description(self):\n",
    "        return f\"{self.__name} {self.__description}\"\n",
    "class Menu:\n",
    "    def __init__(self, name) -> None:\n",
    "        self.__name = name\n",
    "        self.__dish = []\n",
    "    def add_dish(self,dish):\n",
    "        self.__dish.append(dish)\n",
    "    def get_total_price(self):\n",
    "        return sum(dish.get_total_price() for dish in self.__dish )\n",
    "class Restaurant:\n",
    "    def __init__(self,name) -> None:\n",
    "        self.name = name\n",
    "        self.__menu = []\n",
    "    def add_menu(self,menu):\n",
    "        self.__menu.append(menu)\n",
    "    def get_total_price(self):\n",
    "        return sum(menu.get_total_price() for menu in self.__menu )\n",
    "ingrediat1 = Ingridents(\"Chicken Breast\",1,5.99)\n",
    "ingrediat2 = Ingridents(\"Rice\",2,0.99)\n",
    "ingrediat3 = Ingridents(\"vegitable\",3,2.99)\n",
    "ingrediat4 = Ingridents(\"pista\",1,0.99)\n",
    "ingrediat5 = Ingridents(\"alomond\",1,1.99)\n",
    "dish1 = Dish(\"Grilled Chicken\",\"Grilled chicken breast with rice and vegetables\")\n",
    "dish1.add_ingrediant(ingrediat1)\n",
    "dish1.add_ingrediant(ingrediat2)\n",
    "dish1.add_ingrediant(ingrediat3)\n",
    "dish2 = Dish(\"Vegitable delight\",\"Mixed vegetables with rice\")\n",
    "dish2.add_ingrediant(ingrediat2)\n",
    "dish2.add_ingrediant(ingrediat3)\n",
    "deseart1 = Dish(\"Vanila\",\"this is hampoore icecream with pista\")\n",
    "deseart1.add_ingrediant(ingrediat4)\n",
    "deseart1.add_ingrediant(ingrediat5)\n",
    "\n",
    "#Craete Menu\n",
    "menu1 = Menu(\"Main Course\")\n",
    "menu1.add_dish(dish1)\n",
    "menu1.add_dish(dish2)\n",
    "menu2 = Menu(\"Desserts\")\n",
    "menu2.add_dish(deseart1)\n",
    "#Create Restaurent\n",
    "restaurent = Restaurant(\"Tasty Bites\")\n",
    "restaurent.add_menu(menu1)\n",
    "restaurent.add_menu(menu2)\n",
    "print(f\"Total Price of {restaurent.name}: $ {restaurent.get_total_price():.2f}\")"
   ]
  },
  {
   "cell_type": "code",
   "execution_count": 285,
   "metadata": {},
   "outputs": [],
   "source": [
    "#15. Explain how composition enhances code maintainability and modularity in Python programs\n",
    "#Composition is a fundamental concept in object-oriented programming (OOP) that enhances code maintainability and modularity in Python programs. Here's how\n",
    "#Modularity\n",
    "#1.Composition promotes modularity by allowing you to break down a complex system into smaller, independent components. Each component (class) has a single responsibility and interacts with other components through well-defined interfaces. This modular design makes it easier to\n",
    "#2.Develop and test individual components: You can focus on developing and testing each component independently, reducing the complexity of the overall system.\n",
    "#3.Swap or replace components: If needed, you can replace or swap out individual components without affecting the entire system, making it more flexible and adaptable.\n",
    "#Maintainability\n",
    "#1.Composition enhances maintainability in several ways:\n",
    "\n",
    "#2.Easier debugging: With composition, you can isolate and debug individual components, reducing the time and effort required to identify and fix issues.\n",
    "#3.Less coupling: Composition reduces coupling between components, making it easier to modify or update individual components without affecting other parts of the system.\n",
    "#4.Improved code organization: Composition encourages a more organized code structure, with each component having a clear and well-defined role, making it easier to understand and navigate the codebase.\n",
    "#5.Reusability: Components can be reused across different parts of the system, reducing code duplication and making it easier to maintain consistency.\n",
    "\n",
    "#In Python, composition is particularly beneficial due to the language's dynamic nature and flexibility. Python's composition capabilities are enhanced by:\n",
    "#Duck typing: Python's duck typing allows you to define interfaces and protocols that can be implemented by multiple classes, making it easier to compose objects from different classes.\n",
    "#Dynamic method resolution: Python's dynamic method resolution enables you to call methods on objects without knowing their exact class, making it easier to compose objects and delegate responsibilities.\n",
    "#Built-in support for composition: Python's built-in support for composition through features like __getattr__ and __setattr__ makes it easy to implement composition in your code.\n"
   ]
  },
  {
   "cell_type": "code",
   "execution_count": 286,
   "metadata": {},
   "outputs": [
    {
     "name": "stdout",
     "output_type": "stream",
     "text": [
      "Name: adam\n",
      "Health: 200\n",
      " Weapon:sword - Damage:-10\n",
      " Armor:-shield Defense:-5\n",
      "Inventory:\n",
      "sword - Damage:-10\n",
      "shield Defense:-5\n",
      "medkit\n"
     ]
    }
   ],
   "source": [
    "#16. Create a Python class for a computer game character, using composition to represent attributes like \n",
    "#weapons, armor, and inventory.\n",
    "class Weapon:\n",
    "    def __init__(self,name,damage) -> None:\n",
    "        self.name = name\n",
    "        self.damage = damage\n",
    "    def __str__(self) -> str:\n",
    "        return f\"{self.name} - Damage:-{self.damage}\"\n",
    "class Armor:\n",
    "    def __init__(self, name, defense) -> None:\n",
    "        self.name = name\n",
    "        self.defense = defense\n",
    "    def __str__(self) -> str:\n",
    "        return f\"{self.name} Defense:-{self.defense}\"\n",
    "class Inventory:\n",
    "    def __init__(self) -> None:\n",
    "        self.items = []\n",
    "    def add_item(self,item):\n",
    "        self.items.append(item)\n",
    "    def remove_item(self,item):\n",
    "        self.items.remove(item)\n",
    "    def __str__(self) -> str:\n",
    "        return \"\\n\".join([str(item) for item in self.items])\n",
    "class Character:\n",
    "    def __init__(self, name, health, weapon, armor, ) -> None:\n",
    "        self.name = name\n",
    "        self.health = health\n",
    "        self.weapon = weapon\n",
    "        self.armor = armor\n",
    "        self.inventory = Inventory()\n",
    "\n",
    "    def __str__(self) -> str:\n",
    "        return f\"Name: {self.name}\\nHealth: {self.health}\\n Weapon:{self.weapon}\\n Armor:-{self.armor}\\nInventory:\\n{self.inventory}\"\n",
    "    \n",
    "sword = Weapon(\"sword\",10)\n",
    "shield = Armor(\"shield\",5)\n",
    "ch = Character(\"adam\",200,sword,shield)\n",
    "ch.inventory.add_item(sword)\n",
    "ch.inventory.add_item(shield)\n",
    "ch.inventory.add_item(\"medkit\")\n",
    "print(ch)\n"
   ]
  },
  {
   "cell_type": "code",
   "execution_count": 287,
   "metadata": {},
   "outputs": [],
   "source": [
    "#17. Describe the concept of \"aggregation\" in composition and how it differs from simple composition\n",
    "#In object-oriented programming, composition is a fundamental concept that allows objects to contain other objects or collections of objects. Aggregation is a specific type of composition that represents a \"whole-part\" relationship between objects.\n",
    "#Simple Composition:-\n",
    "#In simple composition, an object (the container) owns or manages a collection of other objects. The contained objects are not complete without the container, and their lifecycles are tightly coupled. When the container is destroyed, the contained objects are also destroyed\n",
    "#Aggregation:-\n",
    "#Aggregation, on the other hand, represents a relationship where a container object (the aggregate) contains or manages a collection of other objects, but the contained objects can exist independently of the container. The aggregate object does not own the contained objects, and their lifecycles are not necessarily tied together.\n",
    "#Here are the key differences between simple composition and aggregation:\n",
    "#Ownership: In simple composition, the container owns the contained objects. In aggregation, the aggregate object does not own the contained objects.\n",
    "#Lifecycles: In simple composition, the lifecycles of the container and contained objects are tightly coupled. In aggregation, the lifecycles of the aggregate object and contained objects are not necessarily tied together.\n",
    "#Independence: In simple composition, the contained objects are not complete without the container. In aggregation, the contained objects can exist independently of the aggregate object\n"
   ]
  },
  {
   "cell_type": "code",
   "execution_count": 288,
   "metadata": {},
   "outputs": [
    {
     "name": "stdout",
     "output_type": "stream",
     "text": [
      "23 near govt. hospital:\n",
      " Furniture:-sofa: A Comfertable cousion there youre guest and you can seat With L shape\n",
      "Tv Stand: A woode Tv stand:. appliances:- T.V.: A 40 inch LED tv (Working)\n",
      "Furniture:-Table: A wooden dining table:. appliances:- Refregiator: A Staliness stell fridge (Working)\n",
      "Oven: a electric oven (Not Working)\n"
     ]
    }
   ],
   "source": [
    "#18.Create a Python class for a house, using composition to represent rooms, furniture, and appliances\n",
    "class Furniture:\n",
    "    def __init__(self,name,description) -> None:\n",
    "        self.name = name\n",
    "        self.description = description\n",
    "    def __str__(self) -> str:\n",
    "        return f\"{self.name}: {self.description}\"\n",
    "class Appliance:\n",
    "    def __init__(self, name, description,is_working=True) -> None:\n",
    "        self.name = name\n",
    "        self.description = description\n",
    "        self.is_working = is_working\n",
    "    def __str__(self):\n",
    "        status = \"Working\" if self.is_working else \"Not Working\" \n",
    "        return f\"{self.name}: {self.description} ({status})\"\n",
    "class Room:\n",
    "    def __init__(self,name,furniture=None,appliances=None) -> None:\n",
    "        self.name = name\n",
    "        self.furniture = furniture if furniture else []\n",
    "        self.appliances = appliances if appliances else []\n",
    "    def add_furniture(self,furniture):\n",
    "        self.furniture.append(furniture)\n",
    "    def add_apliances(self,appliance):\n",
    "        self.appliances.append(appliance)\n",
    "    def __str__(self):\n",
    "        furniture = \"\\n\".join(str(f) for f in self.furniture)\n",
    "        appliances = \"\\n\".join(str(a)for a in self.appliances)\n",
    "        return f\"Furniture:-{furniture}:. appliances:- {appliances}\"\n",
    "class House:\n",
    "    def __init__(self, addraase, rooms=None) -> None:\n",
    "        self.addrase = addraase\n",
    "        self.rooms = rooms if rooms else []\n",
    "    def add_rooms(self,room):\n",
    "        self.rooms.append(room)\n",
    "    def __str__(self):\n",
    "        room = \"\\n\".join(str(r)for r in self.rooms)\n",
    "\n",
    "        return f\"{self.addrase}:\\n {room}\"\n",
    "house = House(\"23 near govt. hospital\")\n",
    "living_room = Room(\"Living Rooms\")\n",
    "living_room.add_furniture(Furniture(\"sofa\",\"A Comfertable cousion there youre guest and you can seat With L shape\"))\n",
    "living_room.add_furniture(Furniture(\"Tv Stand\",\"A woode Tv stand\"))\n",
    "living_room.add_apliances(Appliance(\"T.V.\",\"A 40 inch LED tv\"))\n",
    "kitchen = Room(\"Kitchen\")\n",
    "kitchen.add_furniture(Furniture(\"Table\",\"A wooden dining table\"))\n",
    "kitchen.add_apliances(Appliance(\"Refregiator\",\"A Staliness stell fridge\"))\n",
    "kitchen.add_apliances(Appliance(\"Oven\",\"a electric oven\",is_working=False))\n",
    "house.add_rooms(living_room)\n",
    "house.add_rooms(kitchen)\n",
    "print(house)"
   ]
  },
  {
   "cell_type": "code",
   "execution_count": 289,
   "metadata": {},
   "outputs": [],
   "source": [
    "#19. How can you achieve flexibility in composed objects by allowing them to be replaced or modified \n",
    "#dynamically at runtime?\n",
    "#To achieve flexibility in composed objects, you can use various design patterns and techniques that allow for dynamic replacement or modification of objects at runtime.\n",
    "#1. Dependency Injection\n",
    "#Instead of hardcoding dependencies, use dependency injection to provide objects with their dependencies. This allows for easy replacement of dependencies with alternative implementations.\n",
    "#2. Strategy Pattern\n",
    "#Define a strategy interface and use composition to allow objects to switch between different strategies.\n",
    "#3. Observer Pattern\n",
    "#Use the observer pattern to notify objects about changes to other objects, allowing them to react dynamically.\n",
    "#4. Dynamic Method Invocation\n",
    "#Use dynamic method invocation to call methods on objects that are determined at runtime\n"
   ]
  },
  {
   "cell_type": "code",
   "execution_count": 290,
   "metadata": {},
   "outputs": [
    {
     "name": "stdout",
     "output_type": "stream",
     "text": [
      "Username:-i_am_najish_ansari - Content:-Hello World -publish-time:- 2024-07-28 01:01:57.426983\n",
      "usename:-palak - content:-Thanks - publish-time:-2024-07-28 01:01:57.427982\n",
      "Username:-palak - Content:-Hi pw team -publish-time:- 2024-07-28 01:01:57.426983\n",
      "usename:-i_am_najish_ansari - content:-Great POST - publish-time:-2024-07-28 01:01:57.426983\n"
     ]
    }
   ],
   "source": [
    "#20. Create a Python class for a social media application, using composition to represent users, posts, and \n",
    "#comments.\n",
    "from datetime import datetime\n",
    "class User:\n",
    "    def __init__(self,username,email) -> None:\n",
    "        self.username = username\n",
    "        self.email = email\n",
    "        self.posts = []\n",
    "        self.comments = []\n",
    "\n",
    "    def creat_post(self,content):\n",
    "        post = Post(content,self)\n",
    "        self.posts.append(post)\n",
    "        return post\n",
    "    def create_Comment(self,content,post):\n",
    "        comment = Comment(content,self,post)\n",
    "        self.comments.append(comment)\n",
    "        post.comments.append(comment)\n",
    "class Post:\n",
    "    def __init__(self,content,authur) -> None:\n",
    "        self.auture = authur\n",
    "        self.content = content\n",
    "        self.comments = []\n",
    "        self.create_At = datetime.now()\n",
    "\n",
    "    def __str__(self):\n",
    "        return f\"Username:-{self.auture.username} - Content:-{self.content} -publish-time:- {self.create_At}\"\n",
    "class Comment:\n",
    "    def __init__(self,content,author,post) -> None:\n",
    "        self.author = author\n",
    "        self.content = content\n",
    "        self.post = post\n",
    "        self.created_at = datetime.now()\n",
    "    def __str__(self):\n",
    "        return f\"usename:-{self.author.username} - content:-{self.content} - publish-time:-{self.created_at}\"\n",
    "class SocialMediaApp:\n",
    "    def __init__(self) -> None:\n",
    "        self.user = []\n",
    "    def crate_user(self,username,email):\n",
    "        user = User(username,email)\n",
    "        self.user.append(user)\n",
    "        return user\n",
    "    def get_user(self,usename):\n",
    "        for user in self.users:\n",
    "            if user.username == usename:\n",
    "                return user\n",
    "        return None\n",
    "    def display_posts(self,):\n",
    "        for user in self.user:\n",
    "            for post in user.posts:\n",
    "                print(post)\n",
    "                for comment in post.comments:\n",
    "                    print(comment)\n",
    "app = SocialMediaApp()\n",
    "user1 =app.crate_user(\"i_am_najish_ansari\",\"najish23@gmail.com\")\n",
    "user2 = app.crate_user(\"palak\",\"palak4523@gmail.com\")\n",
    "post1=user1.creat_post(\"Hello World\")\n",
    "post2 = user2.creat_post(\"Hi pw team\")\n",
    "commen1 = user1.create_Comment(\"Great POST\",post2)\n",
    "commen2 = user2.create_Comment(\"Thanks\",post1)\n",
    "app.display_posts()"
   ]
  },
  {
   "cell_type": "code",
   "execution_count": null,
   "metadata": {},
   "outputs": [],
   "source": []
  }
 ],
 "metadata": {
  "kernelspec": {
   "display_name": "Python 3",
   "language": "python",
   "name": "python3"
  },
  "language_info": {
   "codemirror_mode": {
    "name": "ipython",
    "version": 3
   },
   "file_extension": ".py",
   "mimetype": "text/x-python",
   "name": "python",
   "nbconvert_exporter": "python",
   "pygments_lexer": "ipython3",
   "version": "3.11.9"
  }
 },
 "nbformat": 4,
 "nbformat_minor": 2
}
